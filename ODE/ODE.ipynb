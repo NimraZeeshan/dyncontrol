{
  "nbformat": 4,
  "nbformat_minor": 0,
  "metadata": {
    "colab": {
      "name": "ODE.ipynb",
      "provenance": [],
      "collapsed_sections": []
    },
    "kernelspec": {
      "name": "python3",
      "display_name": "Python 3"
    }
  },
  "cells": [
    {
      "cell_type": "markdown",
      "metadata": {
        "id": "WwxGQpY7VJr-",
        "colab_type": "text"
      },
      "source": [
        "# Simulate your Dynamics System with Python"
      ]
    },
    {
      "cell_type": "markdown",
      "metadata": {
        "id": "ea6hKFl2MiF-",
        "colab_type": "text"
      },
      "source": [
        "### Simple Cruise Control Systems\n",
        "Suppose we have very simple and straightforward first order linear system such as cruise control systems\n",
        "\n",
        "\n",
        "\n",
        "\n",
        "\n",
        "![alt text](http://ctms.engin.umich.edu/CTMS/Content/CruiseControl/System/Modeling/figures/cruise_control_schematic.png)\n",
        "\n",
        "\n",
        "\n",
        "Source : [Control Tutorials for MATLAB and Simulink, Michigan University](http://ctms.engin.umich.edu/CTMS/index.php?example=CruiseControl&section=SystemModeling)\n",
        "\n",
        "\n",
        "With the systems equations denoted below, \n",
        "\n",
        "$ \\begin{align} m\\dot{v}+bv= u \\end{align}$\n",
        "\n",
        "Since the aim of our system is to control the velocity so the output is,\n",
        "\n",
        "$ y = v $\n",
        "\n",
        "Where v is the vehicle velocity in (m/s), u is the control input force (N), m is the vehicle mass (kg), and b is the damping coefficient (Ns/m)\n",
        "\n",
        "Then, we can derive the state space equation for the system as\n",
        "\n",
        "$ x = v $\n",
        "\n",
        "$ \\dot{v} = \\dot{x} $\n",
        "\n",
        "$ \\dot{x} = -\\frac{b}{m}x\\, + \\frac{1}{m} u$\n",
        "\n",
        "$ y = x $\n",
        "\n",
        "So we get the state space matrix (in this case scalar because our system just first order system),\n",
        "\n",
        "$ A = -\\frac{b}{m} $\n",
        "\n",
        "$ B = \\frac{1}{m} $\n",
        "\n",
        "$ C = 1$\n",
        "\n",
        "Assuming that our system have parameter below,\n",
        "\n",
        "$m = 1500\\, \\text{kg}$\n",
        "\n",
        "$b =  30\\, \\text{Ns/m}$"
      ]
    },
    {
      "cell_type": "code",
      "metadata": {
        "id": "HpvAPszgiDjq",
        "colab_type": "code",
        "colab": {
          "base_uri": "https://localhost:8080/",
          "height": 119
        },
        "outputId": "af09208a-a582-4860-fc27-3ed3c9478f77"
      },
      "source": [
        "# Plugging the parameter into the state space matrix, getting\n",
        "\n",
        "# Params\n",
        "m = 1000\n",
        "b = 50\n",
        "\n",
        "# State Space Matrix\n",
        "A = -np.divide(b,m)\n",
        "B = np.divide(1,m)\n",
        "C = 1\n",
        "\n",
        "print(\"The State Space Matrix\"),\n",
        "print(f\"A : {A}\")\n",
        "print()\n",
        "print(f\"B : {B}\")\n",
        "print()\n",
        "print(f\"C : {C}\")\n",
        "\n",
        "# Okay in this case not matrix but it's scalar, but I often call it state space matrix"
      ],
      "execution_count": 159,
      "outputs": [
        {
          "output_type": "stream",
          "text": [
            "The State Space Matrix\n",
            "A : -0.05\n",
            "\n",
            "B : 0.001\n",
            "\n",
            "C : 1\n"
          ],
          "name": "stdout"
        }
      ]
    },
    {
      "cell_type": "markdown",
      "metadata": {
        "id": "7LaswtpfQ5x1",
        "colab_type": "text"
      },
      "source": [
        "#### Import Numpy, Scipy, and Matplotlib Library"
      ]
    },
    {
      "cell_type": "code",
      "metadata": {
        "id": "S2Tt4FWGRCIZ",
        "colab_type": "code",
        "colab": {}
      },
      "source": [
        "import numpy as np\n",
        "from numpy.linalg import inv\n",
        "import scipy\n",
        "import matplotlib.pyplot as plt"
      ],
      "execution_count": 0,
      "outputs": []
    },
    {
      "cell_type": "markdown",
      "metadata": {
        "id": "BN7qS2fGQ5v0",
        "colab_type": "text"
      },
      "source": [
        "### The Numerical Integration\n",
        "There are several ways to do a numerical integration for knowing the trajectory of our dynamical system, from the simplest one into the complex but wholly more accurate compared to the simple method.\n",
        "\n",
        "The list of numerical integration methods:\n",
        "\n",
        "\n",
        "1.   Forward Euler\n",
        "2.   Backward Euler\n",
        "3.   Runge Kutta 3rd Order (ODE23)\n",
        "4.   Runge Kutta 4th Order (ODE45)\n",
        "\n",
        "There are comparison according to the accuracy of the integrator which state that ODE45 has best accuracy among the others, the error comparison can be seen below\n",
        "\n",
        "<img src=\"https://beltoforion.de/en/runge-kutta_vs_euler//images/analytic_accuracy_vs_stepsize.svg\" height = \"400\" width = \"400\" align=\"center\" />\n",
        "\n",
        "Source : [A Comparison of Numeric Integration Schemes, Beltoforion.de](https://beltoforion.de/article.php?a=runge-kutta_vs_euler&p=calculation_samples)\n",
        "\n",
        "So because of that ODE45 is vastly used on the numerical integration scheme of dynamical systems"
      ]
    },
    {
      "cell_type": "markdown",
      "metadata": {
        "id": "eAW1kZKwMcTL",
        "colab_type": "text"
      },
      "source": [
        "#### 1. Forward Euler Method\n",
        "$ X_{k+1} = X_k + X'_k * \\Delta_t$\n",
        "\n",
        "Also we can write that equation as,\n",
        "\n",
        "$X_{k+1}=[I + \\Delta_tA]X_k$"
      ]
    },
    {
      "cell_type": "code",
      "metadata": {
        "id": "Zg1fqv4geeRj",
        "colab_type": "code",
        "colab": {}
      },
      "source": [
        "def forward_euler(init_pos, steps, A, B, u):\n",
        "  nextstate = np.dot(np.eye(A.shape[0]) + np.multiply(A + np.multiply(B, u), steps), init_pos) \n",
        "  return nextstate"
      ],
      "execution_count": 0,
      "outputs": []
    },
    {
      "cell_type": "markdown",
      "metadata": {
        "id": "o3urRZXFX7qF",
        "colab_type": "text"
      },
      "source": [
        "#### 2. Backward Euler Method\n",
        "$ X_{k+1} = X_k + X'_{k+1}*\\Delta_t$\n",
        "\n",
        "Also we can write that equation as,\n",
        "\n",
        "$ X_{k+1} = [I-\\Delta_tA]^{-1} X_k$"
      ]
    },
    {
      "cell_type": "code",
      "metadata": {
        "id": "TJ_7YCNre4_K",
        "colab_type": "code",
        "colab": {}
      },
      "source": [
        "def backward_euler(init_pos, steps, A, B, u):\n",
        "  nextstate = np.dot(inv(np.eye(A.shape[0]) - np.multiply(A + np.multiply(B,u), steps)), init_pos) \n",
        "  return nextstate"
      ],
      "execution_count": 0,
      "outputs": []
    },
    {
      "cell_type": "markdown",
      "metadata": {
        "id": "M23nGB-AcxWE",
        "colab_type": "text"
      },
      "source": [
        "### 3. Runge Kutta 3rd Order (ODE23)"
      ]
    },
    {
      "cell_type": "code",
      "metadata": {
        "id": "ptXXsSXoBq_N",
        "colab_type": "code",
        "colab": {}
      },
      "source": [
        ""
      ],
      "execution_count": 0,
      "outputs": []
    },
    {
      "cell_type": "markdown",
      "metadata": {
        "id": "b7gquO-4BrNG",
        "colab_type": "text"
      },
      "source": [
        "### 4. Runge Kutta 4th Order (ODE45)"
      ]
    },
    {
      "cell_type": "code",
      "metadata": {
        "id": "Mqho3Vu9BrdO",
        "colab_type": "code",
        "colab": {}
      },
      "source": [
        ""
      ],
      "execution_count": 0,
      "outputs": []
    },
    {
      "cell_type": "markdown",
      "metadata": {
        "id": "16OBNn36Brtb",
        "colab_type": "text"
      },
      "source": [
        "### Let's Do The Simulation"
      ]
    },
    {
      "cell_type": "code",
      "metadata": {
        "id": "RbfoDiaTBt-G",
        "colab_type": "code",
        "colab": {
          "base_uri": "https://localhost:8080/",
          "height": 279
        },
        "outputId": "3d895f78-a538-43d5-c8fe-90ca212176cd"
      },
      "source": [
        "init_state = 20\n",
        "steps = 0.1\n",
        "T = 10\n",
        "totalsteps = int(T / steps) \n",
        "d = 1\n",
        "w = 2* np.pi \n",
        "\n",
        "A = np.array([[0,1], [-w**2, -2*d*w]])\n",
        "\n",
        "t = np.linspace(0, 10, totalsteps)\n",
        "u = np.heaviside(t, 1)\n",
        "x = np.array([[1,0]])\n",
        "xb = x\n",
        "xf = x \n",
        "\n",
        "## Forward Euler\n",
        "for k in range(0, t.shape[0]-1):\n",
        "  xf = np.concatenate((xf, forward_euler(xf[k,:].T, steps, A, 0, 0).T.reshape((1,2))), axis = 0)\n",
        "\n",
        "## Backward Euler\n",
        "for k in range(0, t.shape[0]-1):\n",
        "  xb = np.concatenate((xb, backward_euler(xb[k,:].T, steps, A, 0, 0).T.reshape((1,2))), axis = 0)\n",
        "\n",
        "## ODE23\n",
        "\n",
        "## ODE45\n",
        "\n",
        "xf = np.dot(xf, np.array([[1, 0]]).T)\n",
        "xb = np.dot(xb, np.array([[1, 0]]).T)\n",
        "plt.plot(t,xf, label = 'Forward Euler')\n",
        "plt.plot(t,xb, label = 'Backward Euler')\n",
        "plt.xlabel('Time (s)')\n",
        "plt.ylabel('Velocity')\n",
        "plt.legend(loc = 0)\n",
        "plt.show()"
      ],
      "execution_count": 330,
      "outputs": [
        {
          "output_type": "display_data",
          "data": {
            "image/png": "[encoded data removed]",
            "text/plain": [
              "<Figure size 432x288 with 1 Axes>"
            ]
          },
          "metadata": {
            "tags": [],
            "needs_background": "light"
          }
        }
      ]
    }
  ]
}