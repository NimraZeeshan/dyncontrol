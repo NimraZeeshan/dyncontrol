{
  "nbformat": 4,
  "nbformat_minor": 0,
  "metadata": {
    "colab": {
      "name": "cspythonv1.ipynb",
      "provenance": [],
      "collapsed_sections": [],
      "toc_visible": true
    },
    "kernelspec": {
      "name": "python3",
      "display_name": "Python 3"
    }
  },
  "cells": [
    {
      "cell_type": "markdown",
      "metadata": {
        "id": "D7YKVC_SxzG7",
        "colab_type": "text"
      },
      "source": [
        "# Introduction to Control Systems"
      ]
    },
    {
      "cell_type": "markdown",
      "metadata": {
        "id": "myVdxI2ux9CR",
        "colab_type": "text"
      },
      "source": [
        ""
      ]
    },
    {
      "cell_type": "code",
      "metadata": {
        "id": "jkHcUOAZh9sr",
        "colab_type": "code",
        "colab": {
          "base_uri": "https://localhost:8080/",
          "height": 593
        },
        "outputId": "2d5c5cd2-5a3e-454d-fcde-501eb7e52a7f"
      },
      "source": [
        "!pip install control\n",
        "!pip install slycot"
      ],
      "execution_count": null,
      "outputs": [
        {
          "output_type": "stream",
          "text": [
            "Collecting control\n",
            "\u001b[?25l  Downloading https://files.pythonhosted.org/packages/e8/b0/32a903138505dd4ea523f8a3fc156c4272aa58b10100ef24ff74ced2fae8/control-0.8.3.tar.gz (249kB)\n",
            "\r\u001b[K     |█▎                              | 10kB 22.7MB/s eta 0:00:01\r\u001b[K     |██▋                             | 20kB 1.6MB/s eta 0:00:01\r\u001b[K     |████                            | 30kB 1.9MB/s eta 0:00:01\r\u001b[K     |█████▎                          | 40kB 2.2MB/s eta 0:00:01\r\u001b[K     |██████▋                         | 51kB 2.0MB/s eta 0:00:01\r\u001b[K     |███████▉                        | 61kB 2.2MB/s eta 0:00:01\r\u001b[K     |█████████▏                      | 71kB 2.4MB/s eta 0:00:01\r\u001b[K     |██████████▌                     | 81kB 2.6MB/s eta 0:00:01\r\u001b[K     |███████████▉                    | 92kB 2.5MB/s eta 0:00:01\r\u001b[K     |█████████████▏                  | 102kB 2.7MB/s eta 0:00:01\r\u001b[K     |██████████████▍                 | 112kB 2.7MB/s eta 0:00:01\r\u001b[K     |███████████████▊                | 122kB 2.7MB/s eta 0:00:01\r\u001b[K     |█████████████████               | 133kB 2.7MB/s eta 0:00:01\r\u001b[K     |██████████████████▍             | 143kB 2.7MB/s eta 0:00:01\r\u001b[K     |███████████████████▊            | 153kB 2.7MB/s eta 0:00:01\r\u001b[K     |█████████████████████           | 163kB 2.7MB/s eta 0:00:01\r\u001b[K     |██████████████████████▎         | 174kB 2.7MB/s eta 0:00:01\r\u001b[K     |███████████████████████▋        | 184kB 2.7MB/s eta 0:00:01\r\u001b[K     |█████████████████████████       | 194kB 2.7MB/s eta 0:00:01\r\u001b[K     |██████████████████████████▎     | 204kB 2.7MB/s eta 0:00:01\r\u001b[K     |███████████████████████████▋    | 215kB 2.7MB/s eta 0:00:01\r\u001b[K     |████████████████████████████▉   | 225kB 2.7MB/s eta 0:00:01\r\u001b[K     |██████████████████████████████▏ | 235kB 2.7MB/s eta 0:00:01\r\u001b[K     |███████████████████████████████▌| 245kB 2.7MB/s eta 0:00:01\r\u001b[K     |████████████████████████████████| 256kB 2.7MB/s \n",
            "\u001b[?25hRequirement already satisfied: numpy in /usr/local/lib/python3.6/dist-packages (from control) (1.18.5)\n",
            "Requirement already satisfied: scipy in /usr/local/lib/python3.6/dist-packages (from control) (1.4.1)\n",
            "Requirement already satisfied: matplotlib in /usr/local/lib/python3.6/dist-packages (from control) (3.2.2)\n",
            "Requirement already satisfied: kiwisolver>=1.0.1 in /usr/local/lib/python3.6/dist-packages (from matplotlib->control) (1.2.0)\n",
            "Requirement already satisfied: pyparsing!=2.0.4,!=2.1.2,!=2.1.6,>=2.0.1 in /usr/local/lib/python3.6/dist-packages (from matplotlib->control) (2.4.7)\n",
            "Requirement already satisfied: cycler>=0.10 in /usr/local/lib/python3.6/dist-packages (from matplotlib->control) (0.10.0)\n",
            "Requirement already satisfied: python-dateutil>=2.1 in /usr/local/lib/python3.6/dist-packages (from matplotlib->control) (2.8.1)\n",
            "Requirement already satisfied: six in /usr/local/lib/python3.6/dist-packages (from cycler>=0.10->matplotlib->control) (1.12.0)\n",
            "Building wheels for collected packages: control\n",
            "  Building wheel for control (setup.py) ... \u001b[?25l\u001b[?25hdone\n",
            "  Created wheel for control: filename=control-0.8.3-py2.py3-none-any.whl size=260982 sha256=d098137685f762b9c8a08a14eb63f732bb92f5e63ac20f9bffb810a8560aee53\n",
            "  Stored in directory: /root/.cache/pip/wheels/c2/d9/cc/90b28cb139a6320a3af2285428b6da87eee8d8920c78bb0223\n",
            "Successfully built control\n",
            "Installing collected packages: control\n",
            "Successfully installed control-0.8.3\n",
            "Collecting slycot\n",
            "\u001b[?25l  Downloading https://files.pythonhosted.org/packages/85/21/4e7110462f3529b2fbcff8a519b61bf64e0604b8fcbe9a07649c9bed9d7a/slycot-0.4.0.0.tar.gz (1.5MB)\n",
            "\u001b[K     |████████████████████████████████| 1.6MB 2.6MB/s \n",
            "\u001b[?25h  Installing build dependencies ... \u001b[?25l\u001b[?25hdone\n",
            "  Getting requirements to build wheel ... \u001b[?25l\u001b[?25hdone\n",
            "    Preparing wheel metadata ... \u001b[?25l\u001b[?25hdone\n",
            "Requirement already satisfied: numpy in /usr/local/lib/python3.6/dist-packages (from slycot) (1.18.5)\n",
            "Building wheels for collected packages: slycot\n",
            "  Building wheel for slycot (PEP 517) ... \u001b[?25l\u001b[?25hdone\n",
            "  Created wheel for slycot: filename=slycot-0.4.0-cp36-cp36m-linux_x86_64.whl size=1413148 sha256=f80d225b539f46a98d245f1f4d4dec43f0a7d2339755a776e4321bed500532c4\n",
            "  Stored in directory: /root/.cache/pip/wheels/a2/46/56/f82cbb2fd06556f4f3952a2eb2396e8fd29264fffecbaad3cf\n",
            "Successfully built slycot\n",
            "Installing collected packages: slycot\n",
            "Successfully installed slycot-0.4.0\n"
          ],
          "name": "stdout"
        }
      ]
    },
    {
      "cell_type": "markdown",
      "metadata": {
        "id": "PLxLFiL8mA3X",
        "colab_type": "text"
      },
      "source": [
        "# Tutorial on Control Systems Design with Python"
      ]
    },
    {
      "cell_type": "markdown",
      "metadata": {
        "id": "AoC0w4CwmHEr",
        "colab_type": "text"
      },
      "source": [
        "The LTI (Linear Time-Invariant) were assumed to be used here because nonlinear or other complex systems are difficult to designed and need a more advanced understanding of the control systems field"
      ]
    },
    {
      "cell_type": "markdown",
      "metadata": {
        "id": "XfITlYEVmf_k",
        "colab_type": "text"
      },
      "source": [
        "## Library Importing "
      ]
    },
    {
      "cell_type": "markdown",
      "metadata": {
        "id": "XEMx7caMQUi7",
        "colab_type": "text"
      },
      "source": [
        "First of all, we need to import several essential libraries for designing the control systems, as listed below"
      ]
    },
    {
      "cell_type": "code",
      "metadata": {
        "id": "YCzkUeH0eeCv",
        "colab_type": "code",
        "colab": {}
      },
      "source": [
        "import control # This is python control library (https://python-control.readthedocs.io/en/latest/intro.html)\n",
        "import matplotlib.pyplot as plt\n",
        "import numpy as np\n",
        "import scipy\n",
        "import gym\n",
        "from control.matlab import * # To import matlab like function in designing control systems"
      ],
      "execution_count": null,
      "outputs": []
    },
    {
      "cell_type": "markdown",
      "metadata": {
        "id": "AuKmiVx0_BRJ",
        "colab_type": "text"
      },
      "source": [
        "## Defining Transfer Function"
      ]
    },
    {
      "cell_type": "markdown",
      "metadata": {
        "id": "_jSn99K_ai1j",
        "colab_type": "text"
      },
      "source": [
        "Let's assume we have an arbitrary transfer function equal to\n"
      ]
    },
    {
      "cell_type": "markdown",
      "metadata": {
        "id": "mn6Yggz1TCRy",
        "colab_type": "text"
      },
      "source": [
        "Import the Function from Python Control"
      ]
    },
    {
      "cell_type": "code",
      "metadata": {
        "id": "4xhEa9Z0THEG",
        "colab_type": "code",
        "colab": {}
      },
      "source": [
        "from control import TransferFunction, pole, zero # Transfer Function function import"
      ],
      "execution_count": null,
      "outputs": []
    },
    {
      "cell_type": "markdown",
      "metadata": {
        "id": "VrXqMO0VCW0i",
        "colab_type": "text"
      },
      "source": [
        "### Python Control Function"
      ]
    },
    {
      "cell_type": "code",
      "metadata": {
        "id": "OSLakzxXCbWi",
        "colab_type": "code",
        "colab": {}
      },
      "source": [
        "# Continuous Time Systems\n",
        "s = TransferFunction.s\n",
        "sysc = s / (s**2 + 2*s + 6)\n",
        "# Discrete Time Systems\n",
        "z = TransferFunction.z\n",
        "sysd = z / (z**2 + 2*z + 6)"
      ],
      "execution_count": null,
      "outputs": []
    },
    {
      "cell_type": "markdown",
      "metadata": {
        "id": "QlqZZuRBCAAD",
        "colab_type": "text"
      },
      "source": [
        "### MATLAB like Function"
      ]
    },
    {
      "cell_type": "code",
      "metadata": {
        "id": "M322S7vSipYg",
        "colab_type": "code",
        "colab": {}
      },
      "source": [
        "# Continuous Time Systems\n",
        "s = tf('s')\n",
        "sysc = s/(s**2 + 2*s + 6)\n",
        "# Discrete Time Systems\n",
        "z = tf('z')\n",
        "sysd = z / (z**2 + 2*z + 6)"
      ],
      "execution_count": null,
      "outputs": []
    },
    {
      "cell_type": "markdown",
      "metadata": {
        "id": "38bIuI_8aTob",
        "colab_type": "text"
      },
      "source": [
        "### Stability Check"
      ]
    },
    {
      "cell_type": "code",
      "metadata": {
        "id": "g_zIVrtET7qA",
        "colab_type": "code",
        "colab": {
          "base_uri": "https://localhost:8080/",
          "height": 139
        },
        "outputId": "b0e8b7a7-6109-498b-b346-7aee82b9071a"
      },
      "source": [
        "# The function of python control libraries are the same as MATLAB\n",
        "# From this we can analyze the systems stability by find out the poles\n",
        "\n",
        "# Continuous Systems\n",
        "\n",
        "print('Continuous Systems')\n",
        "# The poles\n",
        "pc = pole(sysc)\n",
        "zc = zero(sysc)\n",
        "\n",
        "print('Pole of The Systems'),\n",
        "print(pc),\n",
        "\n",
        "print()\n",
        "\n",
        "# Discrete Systems\n",
        "\n",
        "print('Discrete systems')\n",
        "\n",
        "# The poles\n",
        "pd = pole(sysd)\n",
        "zd = zero(sysd)\n",
        "\n",
        "print('Pole of The Systems'),\n",
        "print(pd)\n"
      ],
      "execution_count": null,
      "outputs": [
        {
          "output_type": "stream",
          "text": [
            "Continuous Systems\n",
            "Pole of The Systems\n",
            "[-1.+2.23606798j -1.-2.23606798j]\n",
            "\n",
            "Discrete systems\n",
            "Pole of The Systems\n",
            "[-1.+2.23606798j -1.-2.23606798j]\n"
          ],
          "name": "stdout"
        }
      ]
    },
    {
      "cell_type": "markdown",
      "metadata": {
        "id": "c4qpQCRlDR50",
        "colab_type": "text"
      },
      "source": [
        "## Defining State Space Matrix of System"
      ]
    },
    {
      "cell_type": "markdown",
      "metadata": {
        "id": "-xXsj2NldITg",
        "colab_type": "text"
      },
      "source": [
        "Importing The Main Function "
      ]
    },
    {
      "cell_type": "code",
      "metadata": {
        "id": "4rVIQlxZdQaW",
        "colab_type": "code",
        "colab": {}
      },
      "source": [
        "from control import StateSpace"
      ],
      "execution_count": null,
      "outputs": []
    },
    {
      "cell_type": "markdown",
      "metadata": {
        "id": "kIO9L84nOiqy",
        "colab_type": "text"
      },
      "source": [
        "### Convert Transfer Function to State Space Form and Vice Versa"
      ]
    },
    {
      "cell_type": "code",
      "metadata": {
        "id": "kMvBRcteOrU8",
        "colab_type": "code",
        "colab": {
          "base_uri": "https://localhost:8080/",
          "height": 173
        },
        "outputId": "f84945f1-0908-493d-e0b3-c2dfc2a4c3f6"
      },
      "source": [
        "# In this case Python Control Function as same as MATLAB Like Function\n",
        "from control import tf2ss\n",
        "sysc = tf2ss(sysc)\n",
        "sysd = tf2ss(sysd)\n",
        "sysc"
      ],
      "execution_count": null,
      "outputs": [
        {
          "output_type": "execute_result",
          "data": {
            "text/plain": [
              "A = [[-2. -6.]\n",
              " [ 1.  0.]]\n",
              "\n",
              "B = [[-1.]\n",
              " [ 0.]]\n",
              "\n",
              "C = [[-1.  0.]]\n",
              "\n",
              "D = [[0.]]"
            ]
          },
          "metadata": {
            "tags": []
          },
          "execution_count": 9
        }
      ]
    },
    {
      "cell_type": "code",
      "metadata": {
        "id": "JSAZxNU5OLqt",
        "colab_type": "code",
        "colab": {}
      },
      "source": [
        "# Assume we have systems as below\n",
        "A = np.array([[-2, -6], [1, 0]])\n",
        "B = np.array([[-1], [0]])\n",
        "C = np.array([[-1, 0]])\n",
        "D = np.array([[0]])"
      ],
      "execution_count": null,
      "outputs": []
    },
    {
      "cell_type": "markdown",
      "metadata": {
        "id": "lKomwJJ0ODzW",
        "colab_type": "text"
      },
      "source": [
        "### Python Control Function"
      ]
    },
    {
      "cell_type": "code",
      "metadata": {
        "id": "NHomiIy9dWrF",
        "colab_type": "code",
        "colab": {
          "base_uri": "https://localhost:8080/",
          "height": 208
        },
        "outputId": "587198d9-84ea-4411-b7a0-7be04624d393"
      },
      "source": [
        "# Continuous Systems\n",
        "sysc = StateSpace(A,B,C,D)\n",
        "sysc\n",
        "# Discrete Systems\n",
        "ts = 0.01 # The Sampling Time\n",
        "sysd = StateSpace(A,B,C,D,ts)\n",
        "sysd"
      ],
      "execution_count": null,
      "outputs": [
        {
          "output_type": "execute_result",
          "data": {
            "text/plain": [
              "A = [[-2. -6.]\n",
              " [ 1.  0.]]\n",
              "\n",
              "B = [[-1.]\n",
              " [ 0.]]\n",
              "\n",
              "C = [[-1.  0.]]\n",
              "\n",
              "D = [[0.]]\n",
              "\n",
              "dt = 0.01"
            ]
          },
          "metadata": {
            "tags": []
          },
          "execution_count": 11
        }
      ]
    },
    {
      "cell_type": "markdown",
      "metadata": {
        "id": "SI6V6qcrOEDt",
        "colab_type": "text"
      },
      "source": [
        "### MATLAB like Function"
      ]
    },
    {
      "cell_type": "code",
      "metadata": {
        "id": "ZkqDllKPaaR7",
        "colab_type": "code",
        "colab": {
          "base_uri": "https://localhost:8080/",
          "height": 208
        },
        "outputId": "80936e7f-eef3-43a4-833b-f856609ca28e"
      },
      "source": [
        "# Continuous Systems\n",
        "sysc = ss(A,B,C,D)\n",
        "sysc\n",
        "# Discrete Systems\n",
        "ts = 0.01 # The Sampling Time\n",
        "sysd = ss(A,B,C,D,ts)\n",
        "sysd"
      ],
      "execution_count": null,
      "outputs": [
        {
          "output_type": "execute_result",
          "data": {
            "text/plain": [
              "A = [[-2. -6.]\n",
              " [ 1.  0.]]\n",
              "\n",
              "B = [[-1.]\n",
              " [ 0.]]\n",
              "\n",
              "C = [[-1.  0.]]\n",
              "\n",
              "D = [[0.]]\n",
              "\n",
              "dt = 0.01"
            ]
          },
          "metadata": {
            "tags": []
          },
          "execution_count": 12
        }
      ]
    },
    {
      "cell_type": "markdown",
      "metadata": {
        "id": "SNVi7Fedaah1",
        "colab_type": "text"
      },
      "source": [
        "### Stability Check"
      ]
    },
    {
      "cell_type": "code",
      "metadata": {
        "id": "zsXxpLlUeIpw",
        "colab_type": "code",
        "colab": {
          "base_uri": "https://localhost:8080/",
          "height": 86
        },
        "outputId": "8a6720ea-f647-479b-958d-e8fa223859a3"
      },
      "source": [
        "# Check the systems stability by viewing the eigen value\n",
        "# Continuous Systems\n",
        "eigs, eigvs = np.linalg.eig(sysc.A)\n",
        "print('Continuous Systems Eigenvalues'),\n",
        "print(eigs)\n",
        "# Discrete Systems\n",
        "eigd, eigvd = np.linalg.eig(sysd.A)\n",
        "print('Discrete Systems Eigenvalues'),\n",
        "print(eigd)"
      ],
      "execution_count": null,
      "outputs": [
        {
          "output_type": "stream",
          "text": [
            "Continuous Systems Eigenvalues\n",
            "[-1.+2.23606798j -1.-2.23606798j]\n",
            "Discrete Systems Eigenvalues\n",
            "[-1.+2.23606798j -1.-2.23606798j]\n"
          ],
          "name": "stdout"
        }
      ]
    },
    {
      "cell_type": "markdown",
      "metadata": {
        "id": "HOTrL3LyIAME",
        "colab_type": "text"
      },
      "source": [
        "### Controllability and Observability Check"
      ]
    },
    {
      "cell_type": "code",
      "metadata": {
        "id": "wQ9DttwbPGqV",
        "colab_type": "code",
        "colab": {
          "base_uri": "https://localhost:8080/",
          "height": 451
        },
        "outputId": "eb64ac5f-5fbf-4b88-c0f4-c1e0f98ad64e"
      },
      "source": [
        "from control import obsv, ctrb\n",
        "# In this case the function for control libraries and MATLAB are same\n",
        "# Continuous Systems\n",
        "# Controllability Check\n",
        "cc = ctrb(sysc.A, sysc.B)\n",
        "rankcc = np.linalg.matrix_rank(cc)\n",
        "print('Continuous Systems', '\\n')\n",
        "print('The Controllability Matrix'),\n",
        "print(cc),\n",
        "print('Rank of Controllability Matrix'),\n",
        "print(rankcc),\n",
        "# Observability Check\n",
        "oc = obsv(sysc.A, sysc.C)\n",
        "rankoc = np.linalg.matrix_rank(oc)\n",
        "print('The Observability Matrix'),\n",
        "print(oc),\n",
        "print('Rank of Observability Matrix'),\n",
        "print(rankoc),\n",
        "print()\n",
        "# Discrete Systems\n",
        "# Controllability Check\n",
        "cd = ctrb(sysd.A, sysc.B)\n",
        "rankcd = np.linalg.matrix_rank(cd)\n",
        "print('Discrete Systems', '\\n')\n",
        "print('The Controllability Matrix'),\n",
        "print(cd),\n",
        "print('Rank of Controllability Matrix'),\n",
        "print(rankcd),\n",
        "# Observability Check\n",
        "od = obsv(sysd.A, sysc.C)\n",
        "rankod = np.linalg.matrix_rank(od)\n",
        "print('The Observability Matrix'),\n",
        "print(od),\n",
        "print('Rank of Observability Matrix'),\n",
        "print(rankod)"
      ],
      "execution_count": null,
      "outputs": [
        {
          "output_type": "stream",
          "text": [
            "Continuous Systems \n",
            "\n",
            "The Controllability Matrix\n",
            "[[-1.  2.]\n",
            " [ 0. -1.]]\n",
            "Rank of Controllability Matrix\n",
            "2\n",
            "The Observability Matrix\n",
            "[[-1.  0.]\n",
            " [ 2.  6.]]\n",
            "Rank of Observability Matrix\n",
            "2\n",
            "\n",
            "Discrete Systems \n",
            "\n",
            "The Controllability Matrix\n",
            "[[-1.  2.]\n",
            " [ 0. -1.]]\n",
            "Rank of Controllability Matrix\n",
            "2\n",
            "The Observability Matrix\n",
            "[[-1.  0.]\n",
            " [ 2.  6.]]\n",
            "Rank of Observability Matrix\n",
            "2\n"
          ],
          "name": "stdout"
        }
      ]
    },
    {
      "cell_type": "markdown",
      "metadata": {
        "id": "SJ6gJ8I4ccDi",
        "colab_type": "text"
      },
      "source": [
        "## Analyze the Control Systems"
      ]
    },
    {
      "cell_type": "code",
      "metadata": {
        "id": "MOJ3FGwLdz4v",
        "colab_type": "code",
        "colab": {}
      },
      "source": [
        "from control import bode_plot, nyquist_plot, root_locus, pzmap"
      ],
      "execution_count": null,
      "outputs": []
    },
    {
      "cell_type": "markdown",
      "metadata": {
        "id": "I2lDZr0HaDOC",
        "colab_type": "text"
      },
      "source": [
        "##### Pole Zero Map"
      ]
    },
    {
      "cell_type": "code",
      "metadata": {
        "id": "FPHzF18Te9jM",
        "colab_type": "code",
        "colab": {
          "base_uri": "https://localhost:8080/",
          "height": 312
        },
        "outputId": "e0569e53-e54e-4f13-9b60-5e881d138f8c"
      },
      "source": [
        "# Continuous\n",
        "pzmap(sysc)"
      ],
      "execution_count": null,
      "outputs": [
        {
          "output_type": "execute_result",
          "data": {
            "text/plain": [
              "(array([-1.+2.23606798j, -1.-2.23606798j]), array([0.+0.j]))"
            ]
          },
          "metadata": {
            "tags": []
          },
          "execution_count": 16
        },
        {
          "output_type": "display_data",
          "data": {
            "image/png": "[encoded data removed]",
            "text/plain": [
              "<Figure size 432x288 with 1 Axes>"
            ]
          },
          "metadata": {
            "tags": [],
            "needs_background": "light"
          }
        }
      ]
    },
    {
      "cell_type": "code",
      "metadata": {
        "id": "U0WX1rB1f8Bp",
        "colab_type": "code",
        "colab": {
          "base_uri": "https://localhost:8080/",
          "height": 312
        },
        "outputId": "da9a9d3c-5dbe-404a-bb15-a18e09186fce"
      },
      "source": [
        "# Discrete\n",
        "pzmap(sysd)"
      ],
      "execution_count": null,
      "outputs": [
        {
          "output_type": "execute_result",
          "data": {
            "text/plain": [
              "(array([-1.+2.23606798j, -1.-2.23606798j]), array([0.+0.j]))"
            ]
          },
          "metadata": {
            "tags": []
          },
          "execution_count": 17
        },
        {
          "output_type": "display_data",
          "data": {
            "image/png": "[encoded data removed]",
            "text/plain": [
              "<Figure size 432x288 with 1 Axes>"
            ]
          },
          "metadata": {
            "tags": [],
            "needs_background": "light"
          }
        }
      ]
    },
    {
      "cell_type": "markdown",
      "metadata": {
        "id": "bmi5pKYacoEN",
        "colab_type": "text"
      },
      "source": [
        "##### Root Locus"
      ]
    },
    {
      "cell_type": "code",
      "metadata": {
        "id": "tUMt3jXAeawX",
        "colab_type": "code",
        "colab": {
          "base_uri": "https://localhost:8080/",
          "height": 1000
        },
        "outputId": "7eb8f1ec-5e92-4d4f-ae96-68d22c3e393f"
      },
      "source": [
        "# Continuous\n",
        "root_locus(sysc)"
      ],
      "execution_count": null,
      "outputs": [
        {
          "output_type": "execute_result",
          "data": {
            "text/plain": [
              "(array([[-1.00000000e+00-2.23606798e+00j, -1.00000000e+00+2.23606798e+00j],\n",
              "        [-1.10516859e+00-2.18600146e+00j, -1.10516859e+00+2.18600146e+00j],\n",
              "        [-1.21033717e+00-2.12957365e+00j, -1.21033717e+00+2.12957365e+00j],\n",
              "        [-1.31550576e+00-2.06626344e+00j, -1.31550576e+00+2.06626344e+00j],\n",
              "        [-1.42067435e+00-1.99541585e+00j, -1.42067435e+00+1.99541585e+00j],\n",
              "        [-1.52584293e+00-1.91619502e+00j, -1.52584293e+00+1.91619502e+00j],\n",
              "        [-1.63101152e+00-1.82751236e+00j, -1.63101152e+00+1.82751236e+00j],\n",
              "        [-1.73618011e+00-1.72791164e+00j, -1.73618011e+00+1.72791164e+00j],\n",
              "        [-1.84134869e+00-1.61537456e+00j, -1.84134869e+00+1.61537456e+00j],\n",
              "        [-1.94651728e+00-1.48696687e+00j, -1.94651728e+00+1.48696687e+00j],\n",
              "        [-2.05168587e+00-1.33812746e+00j, -2.05168587e+00+1.33812746e+00j],\n",
              "        [-2.15685446e+00-1.16102492e+00j, -2.15685446e+00+1.16102492e+00j],\n",
              "        [-2.18314660e+00-1.11079742e+00j, -2.18314660e+00+1.11079742e+00j],\n",
              "        [-2.20943875e+00-1.05753507e+00j, -2.20943875e+00+1.05753507e+00j],\n",
              "        [-2.23573090e+00-1.00075340e+00j, -2.23573090e+00+1.00075340e+00j],\n",
              "        [-2.26202304e+00-9.39814745e-01j, -2.26202304e+00+9.39814745e-01j],\n",
              "        [-2.28831519e+00-8.73849870e-01j, -2.28831519e+00+8.73849870e-01j],\n",
              "        [-2.31460734e+00-8.01618913e-01j, -2.31460734e+00+8.01618913e-01j],\n",
              "        [-2.34089948e+00-7.21241716e-01j, -2.34089948e+00+7.21241716e-01j],\n",
              "        [-2.36719163e+00-6.29606060e-01j, -2.36719163e+00+6.29606060e-01j],\n",
              "        [-2.38776616e+00-5.46418133e-01j, -2.38776616e+00+5.46418133e-01j],\n",
              "        [-2.40834069e+00-4.47096343e-01j, -2.40834069e+00+4.47096343e-01j],\n",
              "        [-2.42891521e+00-3.16813638e-01j, -2.42891521e+00+3.16813638e-01j],\n",
              "        [-2.43405885e+00-2.74513263e-01j, -2.43405885e+00+2.74513263e-01j],\n",
              "        [-2.43920248e+00-2.24257148e-01j, -2.43920248e+00+2.24257148e-01j],\n",
              "        [-2.44434611e+00-1.58657150e-01j, -2.44434611e+00+1.58657150e-01j],\n",
              "        [-2.44948974e+00-3.33200094e-08j, -2.44948974e+00+3.33200094e-08j],\n",
              "        [-2.62266836e+00+0.00000000e+00j, -2.28774636e+00+0.00000000e+00j],\n",
              "        [-2.69788859e+00+0.00000000e+00j, -2.22396137e+00+0.00000000e+00j],\n",
              "        [-2.75703148e+00+0.00000000e+00j, -2.17625371e+00+0.00000000e+00j],\n",
              "        [-2.80786735e+00+0.00000000e+00j, -2.13685308e+00+0.00000000e+00j],\n",
              "        [-2.99186999e+00+0.00000000e+00j, -2.00543473e+00+0.00000000e+00j],\n",
              "        [-3.13759839e+00+0.00000000e+00j, -1.91229063e+00+0.00000000e+00j],\n",
              "        [-3.26454478e+00+0.00000000e+00j, -1.83792853e+00+0.00000000e+00j],\n",
              "        [-3.37980976e+00+0.00000000e+00j, -1.77524785e+00+0.00000000e+00j],\n",
              "        [-3.48693110e+00+0.00000000e+00j, -1.72071080e+00+0.00000000e+00j],\n",
              "        [-3.58797264e+00+0.00000000e+00j, -1.67225356e+00+0.00000000e+00j],\n",
              "        [-3.68426166e+00+0.00000000e+00j, -1.62854883e+00+0.00000000e+00j],\n",
              "        [-3.77671077e+00+0.00000000e+00j, -1.58868401e+00+0.00000000e+00j],\n",
              "        [-3.86597887e+00+0.00000000e+00j, -1.55200021e+00+0.00000000e+00j],\n",
              "        [-3.95255975e+00+0.00000000e+00j, -1.51800362e+00+0.00000000e+00j],\n",
              "        [-4.03683459e+00+0.00000000e+00j, -1.48631307e+00+0.00000000e+00j],\n",
              "        [-4.11910476e+00+0.00000000e+00j, -1.45662719e+00+0.00000000e+00j],\n",
              "        [-4.19961326e+00+0.00000000e+00j, -1.42870298e+00+0.00000000e+00j],\n",
              "        [-4.27855935e+00+0.00000000e+00j, -1.40234119e+00+0.00000000e+00j],\n",
              "        [-4.35610875e+00+0.00000000e+00j, -1.37737608e+00+0.00000000e+00j],\n",
              "        [-4.43240099e+00+0.00000000e+00j, -1.35366814e+00+0.00000000e+00j],\n",
              "        [-4.50755479e+00+0.00000000e+00j, -1.33109863e+00+0.00000000e+00j],\n",
              "        [-4.58167217e+00+0.00000000e+00j, -1.30956554e+00+0.00000000e+00j],\n",
              "        [-4.65484149e+00+0.00000000e+00j, -1.28898052e+00+0.00000000e+00j],\n",
              "        [-4.72713986e+00+0.00000000e+00j, -1.26926645e+00+0.00000000e+00j],\n",
              "        [-4.79863503e+00+0.00000000e+00j, -1.25035556e+00+0.00000000e+00j],\n",
              "        [-4.86938691e+00+0.00000000e+00j, -1.23218798e+00+0.00000000e+00j],\n",
              "        [-4.93944873e+00+0.00000000e+00j, -1.21471045e+00+0.00000000e+00j],\n",
              "        [-5.00886803e+00+0.00000000e+00j, -1.19787544e+00+0.00000000e+00j],\n",
              "        [-5.07768750e+00+0.00000000e+00j, -1.18164026e+00+0.00000000e+00j],\n",
              "        [-5.14594560e+00+0.00000000e+00j, -1.16596647e+00+0.00000000e+00j],\n",
              "        [-5.21367710e+00+0.00000000e+00j, -1.15081926e+00+0.00000000e+00j],\n",
              "        [-5.28091360e+00+0.00000000e+00j, -1.13616704e+00+0.00000000e+00j],\n",
              "        [-5.34768389e+00+0.00000000e+00j, -1.12198105e+00+0.00000000e+00j],\n",
              "        [-5.41401425e+00+0.00000000e+00j, -1.10823498e+00+0.00000000e+00j],\n",
              "        [-5.47992879e+00+0.00000000e+00j, -1.09490474e+00+0.00000000e+00j],\n",
              "        [-5.54544965e+00+0.00000000e+00j, -1.08196817e+00+0.00000000e+00j],\n",
              "        [-5.61059725e+00+0.00000000e+00j, -1.06940487e+00+0.00000000e+00j],\n",
              "        [-5.67539042e+00+0.00000000e+00j, -1.05719599e+00+0.00000000e+00j],\n",
              "        [-5.73984660e+00+0.00000000e+00j, -1.04532410e+00+0.00000000e+00j],\n",
              "        [-5.80398197e+00+0.00000000e+00j, -1.03377303e+00+0.00000000e+00j],\n",
              "        [-5.86781157e+00+0.00000000e+00j, -1.02252772e+00+0.00000000e+00j],\n",
              "        [-5.93134938e+00+0.00000000e+00j, -1.01157420e+00+0.00000000e+00j],\n",
              "        [-5.99460848e+00+0.00000000e+00j, -1.00089939e+00+0.00000000e+00j],\n",
              "        [-6.05760106e+00+0.00000000e+00j, -9.90491111e-01+0.00000000e+00j],\n",
              "        [-6.12033853e+00+0.00000000e+00j, -9.80337928e-01+0.00000000e+00j],\n",
              "        [-6.18283161e+00+0.00000000e+00j, -9.70429146e-01+0.00000000e+00j],\n",
              "        [-6.24509033e+00+0.00000000e+00j, -9.60754718e-01+0.00000000e+00j],\n",
              "        [-6.30712414e+00+0.00000000e+00j, -9.51305201e-01+0.00000000e+00j],\n",
              "        [-6.36894193e+00+0.00000000e+00j, -9.42071708e-01+0.00000000e+00j],\n",
              "        [-6.43055207e+00+0.00000000e+00j, -9.33045862e-01+0.00000000e+00j],\n",
              "        [-6.49196246e+00+0.00000000e+00j, -9.24219762e-01+0.00000000e+00j],\n",
              "        [-6.55318058e+00+0.00000000e+00j, -9.15585940e-01+0.00000000e+00j],\n",
              "        [-6.61421347e+00+0.00000000e+00j, -9.07137338e-01+0.00000000e+00j],\n",
              "        [-6.67506783e+00+0.00000000e+00j, -8.98867270e-01+0.00000000e+00j],\n",
              "        [-6.73574999e+00+0.00000000e+00j, -8.90769403e-01+0.00000000e+00j],\n",
              "        [-6.79626596e+00+0.00000000e+00j, -8.82837728e-01+0.00000000e+00j],\n",
              "        [-6.85662144e+00+0.00000000e+00j, -8.75066539e-01+0.00000000e+00j],\n",
              "        [-6.91682186e+00+0.00000000e+00j, -8.67450416e-01+0.00000000e+00j],\n",
              "        [-6.97687237e+00+0.00000000e+00j, -8.59984199e-01+0.00000000e+00j],\n",
              "        [-7.03677788e+00+0.00000000e+00j, -8.52662980e-01+0.00000000e+00j],\n",
              "        [-7.09654308e+00+0.00000000e+00j, -8.45482080e-01+0.00000000e+00j],\n",
              "        [-7.15617241e+00+0.00000000e+00j, -8.38437038e-01+0.00000000e+00j],\n",
              "        [-7.21567015e+00+0.00000000e+00j, -8.31523598e-01+0.00000000e+00j],\n",
              "        [-7.27504034e+00+0.00000000e+00j, -8.24737694e-01+0.00000000e+00j],\n",
              "        [-7.33428689e+00+0.00000000e+00j, -8.18075444e-01+0.00000000e+00j],\n",
              "        [-7.39341349e+00+0.00000000e+00j, -8.11533131e-01+0.00000000e+00j],\n",
              "        [-7.45242372e+00+0.00000000e+00j, -8.05107201e-01+0.00000000e+00j],\n",
              "        [-7.51132096e+00+0.00000000e+00j, -7.98794251e-01+0.00000000e+00j],\n",
              "        [-7.57010849e+00+0.00000000e+00j, -7.92591019e-01+0.00000000e+00j],\n",
              "        [-7.62878942e+00+0.00000000e+00j, -7.86494379e-01+0.00000000e+00j],\n",
              "        [-7.68736676e+00+0.00000000e+00j, -7.80501333e-01+0.00000000e+00j],\n",
              "        [-7.74584339e+00+0.00000000e+00j, -7.74609000e-01+0.00000000e+00j],\n",
              "        [-7.80422206e+00+0.00000000e+00j, -7.68814618e-01+0.00000000e+00j],\n",
              "        [-7.86250544e+00+0.00000000e+00j, -7.63115529e-01+0.00000000e+00j],\n",
              "        [-7.92069609e+00+0.00000000e+00j, -7.57509180e-01+0.00000000e+00j],\n",
              "        [-7.97879644e+00+0.00000000e+00j, -7.51993116e-01+0.00000000e+00j],\n",
              "        [-8.03680888e+00+0.00000000e+00j, -7.46564972e-01+0.00000000e+00j],\n",
              "        [-8.09473567e+00+0.00000000e+00j, -7.41222474e-01+0.00000000e+00j],\n",
              "        [-8.15257901e+00+0.00000000e+00j, -7.35963428e-01+0.00000000e+00j],\n",
              "        [-8.21034101e+00+0.00000000e+00j, -7.30785724e-01+0.00000000e+00j],\n",
              "        [-8.26802370e+00+0.00000000e+00j, -7.25687325e-01+0.00000000e+00j],\n",
              "        [-8.32562905e+00+0.00000000e+00j, -7.20666266e-01+0.00000000e+00j],\n",
              "        [-8.38315896e+00+0.00000000e+00j, -7.15720652e-01+0.00000000e+00j],\n",
              "        [-8.44061525e+00+0.00000000e+00j, -7.10848655e-01+0.00000000e+00j],\n",
              "        [-8.49799969e+00+0.00000000e+00j, -7.06048508e-01+0.00000000e+00j],\n",
              "        [-8.55531399e+00+0.00000000e+00j, -7.01318503e-01+0.00000000e+00j],\n",
              "        [-8.61255980e+00+0.00000000e+00j, -6.96656992e-01+0.00000000e+00j],\n",
              "        [-8.66973870e+00+0.00000000e+00j, -6.92062380e-01+0.00000000e+00j],\n",
              "        [-8.72685225e+00+0.00000000e+00j, -6.87533125e-01+0.00000000e+00j],\n",
              "        [-8.78390193e+00+0.00000000e+00j, -6.83067735e-01+0.00000000e+00j],\n",
              "        [-8.84088919e+00+0.00000000e+00j, -6.78664766e-01+0.00000000e+00j],\n",
              "        [-8.89781543e+00+0.00000000e+00j, -6.74322821e-01+0.00000000e+00j],\n",
              "        [-8.95468200e+00+0.00000000e+00j, -6.70040544e-01+0.00000000e+00j],\n",
              "        [-9.01149022e+00+0.00000000e+00j, -6.65816625e-01+0.00000000e+00j],\n",
              "        [-9.06824134e+00+0.00000000e+00j, -6.61649792e-01+0.00000000e+00j],\n",
              "        [-9.12493661e+00+0.00000000e+00j, -6.57538814e-01+0.00000000e+00j],\n",
              "        [-9.18157723e+00+0.00000000e+00j, -6.53482496e-01+0.00000000e+00j],\n",
              "        [-9.23816434e+00+0.00000000e+00j, -6.49479678e-01+0.00000000e+00j],\n",
              "        [-9.29469907e+00+0.00000000e+00j, -6.45529237e-01+0.00000000e+00j],\n",
              "        [-9.35118252e+00+0.00000000e+00j, -6.41630081e-01+0.00000000e+00j],\n",
              "        [-9.40761574e+00+0.00000000e+00j, -6.37781151e-01+0.00000000e+00j],\n",
              "        [-9.46399977e+00+0.00000000e+00j, -6.33981419e-01+0.00000000e+00j],\n",
              "        [-9.52033560e+00+0.00000000e+00j, -6.30229884e-01+0.00000000e+00j],\n",
              "        [-9.57662420e+00+0.00000000e+00j, -6.26525577e-01+0.00000000e+00j],\n",
              "        [-9.63286652e+00+0.00000000e+00j, -6.22867554e-01+0.00000000e+00j],\n",
              "        [-9.68906347e+00+0.00000000e+00j, -6.19254897e-01+0.00000000e+00j],\n",
              "        [-9.74521594e+00+0.00000000e+00j, -6.15686716e-01+0.00000000e+00j],\n",
              "        [-9.80132481e+00+0.00000000e+00j, -6.12162143e-01+0.00000000e+00j],\n",
              "        [-9.85739091e+00+0.00000000e+00j, -6.08680335e-01+0.00000000e+00j],\n",
              "        [-9.91341507e+00+0.00000000e+00j, -6.05240471e-01+0.00000000e+00j],\n",
              "        [-9.96939808e+00+0.00000000e+00j, -6.01841751e-01+0.00000000e+00j],\n",
              "        [-1.00253407e+01+0.00000000e+00j, -5.98483400e-01+0.00000000e+00j],\n",
              "        [-1.02487225e+01+0.00000000e+00j, -5.85438821e-01+0.00000000e+00j],\n",
              "        [-1.04715155e+01+0.00000000e+00j, -5.72982965e-01+0.00000000e+00j],\n",
              "        [-1.06937608e+01+0.00000000e+00j, -5.61074827e-01+0.00000000e+00j],\n",
              "        [-1.09154955e+01+0.00000000e+00j, -5.49677290e-01+0.00000000e+00j],\n",
              "        [-1.11367533e+01+0.00000000e+00j, -5.38756657e-01+0.00000000e+00j],\n",
              "        [-1.13575649e+01+0.00000000e+00j, -5.28282255e-01+0.00000000e+00j],\n",
              "        [-1.15779583e+01+0.00000000e+00j, -5.18226087e-01+0.00000000e+00j],\n",
              "        [-1.17979590e+01+0.00000000e+00j, -5.08562542e-01+0.00000000e+00j],\n",
              "        [-1.05008077e+02+0.00000000e+00j, -5.71384620e-02+0.00000000e+00j],\n",
              "        [-1.03264634e+03+0.00000000e+00j, -5.81031449e-03+0.00000000e+00j],\n",
              "        [-1.03085209e+04+0.00000000e+00j, -5.82042763e-04+0.00000000e+00j]]),\n",
              " array([0.00000000e+00, 2.10337174e-01, 4.20674347e-01, 6.31011521e-01,\n",
              "        8.41348695e-01, 1.05168587e+00, 1.26202304e+00, 1.47236022e+00,\n",
              "        1.68269739e+00, 1.89303456e+00, 2.10337174e+00, 2.31370891e+00,\n",
              "        2.36629320e+00, 2.41887750e+00, 2.47146179e+00, 2.52404608e+00,\n",
              "        2.57663038e+00, 2.62921467e+00, 2.68179897e+00, 2.73438326e+00,\n",
              "        2.77553232e+00, 2.81668137e+00, 2.85783043e+00, 2.86811769e+00,\n",
              "        2.87840496e+00, 2.88869222e+00, 2.89897949e+00, 2.91041472e+00,\n",
              "        2.92184996e+00, 2.93328520e+00, 2.94472043e+00, 2.99730473e+00,\n",
              "        3.04988902e+00, 3.10247331e+00, 3.15505761e+00, 3.20764190e+00,\n",
              "        3.26022619e+00, 3.31281049e+00, 3.36539478e+00, 3.41797907e+00,\n",
              "        3.47056337e+00, 3.52314766e+00, 3.57573195e+00, 3.62831625e+00,\n",
              "        3.68090054e+00, 3.73348483e+00, 3.78606913e+00, 3.83865342e+00,\n",
              "        3.89123771e+00, 3.94382201e+00, 3.99640630e+00, 4.04899059e+00,\n",
              "        4.10157489e+00, 4.15415918e+00, 4.20674347e+00, 4.25932777e+00,\n",
              "        4.31191206e+00, 4.36449635e+00, 4.41708065e+00, 4.46966494e+00,\n",
              "        4.52224924e+00, 4.57483353e+00, 4.62741782e+00, 4.68000212e+00,\n",
              "        4.73258641e+00, 4.78517070e+00, 4.83775500e+00, 4.89033929e+00,\n",
              "        4.94292358e+00, 4.99550788e+00, 5.04809217e+00, 5.10067646e+00,\n",
              "        5.15326076e+00, 5.20584505e+00, 5.25842934e+00, 5.31101364e+00,\n",
              "        5.36359793e+00, 5.41618222e+00, 5.46876652e+00, 5.52135081e+00,\n",
              "        5.57393510e+00, 5.62651940e+00, 5.67910369e+00, 5.73168798e+00,\n",
              "        5.78427228e+00, 5.83685657e+00, 5.88944086e+00, 5.94202516e+00,\n",
              "        5.99460945e+00, 6.04719374e+00, 6.09977804e+00, 6.15236233e+00,\n",
              "        6.20494663e+00, 6.25753092e+00, 6.31011521e+00, 6.36269951e+00,\n",
              "        6.41528380e+00, 6.46786809e+00, 6.52045239e+00, 6.57303668e+00,\n",
              "        6.62562097e+00, 6.67820527e+00, 6.73078956e+00, 6.78337385e+00,\n",
              "        6.83595815e+00, 6.88854244e+00, 6.94112673e+00, 6.99371103e+00,\n",
              "        7.04629532e+00, 7.09887961e+00, 7.15146391e+00, 7.20404820e+00,\n",
              "        7.25663249e+00, 7.30921679e+00, 7.36180108e+00, 7.41438537e+00,\n",
              "        7.46696967e+00, 7.51955396e+00, 7.57213825e+00, 7.62472255e+00,\n",
              "        7.67730684e+00, 7.72989113e+00, 7.78247543e+00, 7.83505972e+00,\n",
              "        7.88764401e+00, 7.94022831e+00, 7.99281260e+00, 8.04539690e+00,\n",
              "        8.09798119e+00, 8.15056548e+00, 8.20314978e+00, 8.25573407e+00,\n",
              "        8.30831836e+00, 8.36090266e+00, 8.41348695e+00, 8.46607124e+00,\n",
              "        8.51865554e+00, 8.57123983e+00, 8.62382412e+00, 8.83416130e+00,\n",
              "        9.04449847e+00, 9.25483564e+00, 9.46517282e+00, 9.67550999e+00,\n",
              "        9.88584717e+00, 1.00961843e+01, 1.03065215e+01, 1.03065215e+02,\n",
              "        1.03065215e+03, 1.03065215e+04]))"
            ]
          },
          "metadata": {
            "tags": []
          },
          "execution_count": 18
        },
        {
          "output_type": "display_data",
          "data": {
            "image/png": "[encoded data removed]",
            "text/plain": [
              "<Figure size 432x288 with 1 Axes>"
            ]
          },
          "metadata": {
            "tags": [],
            "needs_background": "light"
          }
        }
      ]
    },
    {
      "cell_type": "code",
      "metadata": {
        "id": "_f4eVbGzgBk7",
        "colab_type": "code",
        "colab": {
          "base_uri": "https://localhost:8080/",
          "height": 1000
        },
        "outputId": "5f3cc253-8d38-4ca1-92aa-51f8b6f02537"
      },
      "source": [
        "# Discrete\n",
        "root_locus(sysd)"
      ],
      "execution_count": null,
      "outputs": [
        {
          "output_type": "execute_result",
          "data": {
            "text/plain": [
              "(array([[-1.00000000e+00-2.23606798e+00j, -1.00000000e+00+2.23606798e+00j],\n",
              "        [-1.10516859e+00-2.18600146e+00j, -1.10516859e+00+2.18600146e+00j],\n",
              "        [-1.21033717e+00-2.12957365e+00j, -1.21033717e+00+2.12957365e+00j],\n",
              "        [-1.31550576e+00-2.06626344e+00j, -1.31550576e+00+2.06626344e+00j],\n",
              "        [-1.42067435e+00-1.99541585e+00j, -1.42067435e+00+1.99541585e+00j],\n",
              "        [-1.52584293e+00-1.91619502e+00j, -1.52584293e+00+1.91619502e+00j],\n",
              "        [-1.63101152e+00-1.82751236e+00j, -1.63101152e+00+1.82751236e+00j],\n",
              "        [-1.73618011e+00-1.72791164e+00j, -1.73618011e+00+1.72791164e+00j],\n",
              "        [-1.84134869e+00-1.61537456e+00j, -1.84134869e+00+1.61537456e+00j],\n",
              "        [-1.94651728e+00-1.48696687e+00j, -1.94651728e+00+1.48696687e+00j],\n",
              "        [-2.05168587e+00-1.33812746e+00j, -2.05168587e+00+1.33812746e+00j],\n",
              "        [-2.15685446e+00-1.16102492e+00j, -2.15685446e+00+1.16102492e+00j],\n",
              "        [-2.18314660e+00-1.11079742e+00j, -2.18314660e+00+1.11079742e+00j],\n",
              "        [-2.20943875e+00-1.05753507e+00j, -2.20943875e+00+1.05753507e+00j],\n",
              "        [-2.23573090e+00-1.00075340e+00j, -2.23573090e+00+1.00075340e+00j],\n",
              "        [-2.26202304e+00-9.39814745e-01j, -2.26202304e+00+9.39814745e-01j],\n",
              "        [-2.28831519e+00-8.73849870e-01j, -2.28831519e+00+8.73849870e-01j],\n",
              "        [-2.31460734e+00-8.01618913e-01j, -2.31460734e+00+8.01618913e-01j],\n",
              "        [-2.34089948e+00-7.21241716e-01j, -2.34089948e+00+7.21241716e-01j],\n",
              "        [-2.36719163e+00-6.29606060e-01j, -2.36719163e+00+6.29606060e-01j],\n",
              "        [-2.38776616e+00-5.46418133e-01j, -2.38776616e+00+5.46418133e-01j],\n",
              "        [-2.40834069e+00-4.47096343e-01j, -2.40834069e+00+4.47096343e-01j],\n",
              "        [-2.42891521e+00-3.16813638e-01j, -2.42891521e+00+3.16813638e-01j],\n",
              "        [-2.43405885e+00-2.74513263e-01j, -2.43405885e+00+2.74513263e-01j],\n",
              "        [-2.43920248e+00-2.24257148e-01j, -2.43920248e+00+2.24257148e-01j],\n",
              "        [-2.44434611e+00-1.58657150e-01j, -2.44434611e+00+1.58657150e-01j],\n",
              "        [-2.44948974e+00-3.33200094e-08j, -2.44948974e+00+3.33200094e-08j],\n",
              "        [-2.62266836e+00+0.00000000e+00j, -2.28774636e+00+0.00000000e+00j],\n",
              "        [-2.69788859e+00+0.00000000e+00j, -2.22396137e+00+0.00000000e+00j],\n",
              "        [-2.75703148e+00+0.00000000e+00j, -2.17625371e+00+0.00000000e+00j],\n",
              "        [-2.80786735e+00+0.00000000e+00j, -2.13685308e+00+0.00000000e+00j],\n",
              "        [-2.99186999e+00+0.00000000e+00j, -2.00543473e+00+0.00000000e+00j],\n",
              "        [-3.13759839e+00+0.00000000e+00j, -1.91229063e+00+0.00000000e+00j],\n",
              "        [-3.26454478e+00+0.00000000e+00j, -1.83792853e+00+0.00000000e+00j],\n",
              "        [-3.37980976e+00+0.00000000e+00j, -1.77524785e+00+0.00000000e+00j],\n",
              "        [-3.48693110e+00+0.00000000e+00j, -1.72071080e+00+0.00000000e+00j],\n",
              "        [-3.58797264e+00+0.00000000e+00j, -1.67225356e+00+0.00000000e+00j],\n",
              "        [-3.68426166e+00+0.00000000e+00j, -1.62854883e+00+0.00000000e+00j],\n",
              "        [-3.77671077e+00+0.00000000e+00j, -1.58868401e+00+0.00000000e+00j],\n",
              "        [-3.86597887e+00+0.00000000e+00j, -1.55200021e+00+0.00000000e+00j],\n",
              "        [-3.95255975e+00+0.00000000e+00j, -1.51800362e+00+0.00000000e+00j],\n",
              "        [-4.03683459e+00+0.00000000e+00j, -1.48631307e+00+0.00000000e+00j],\n",
              "        [-4.11910476e+00+0.00000000e+00j, -1.45662719e+00+0.00000000e+00j],\n",
              "        [-4.19961326e+00+0.00000000e+00j, -1.42870298e+00+0.00000000e+00j],\n",
              "        [-4.27855935e+00+0.00000000e+00j, -1.40234119e+00+0.00000000e+00j],\n",
              "        [-4.35610875e+00+0.00000000e+00j, -1.37737608e+00+0.00000000e+00j],\n",
              "        [-4.43240099e+00+0.00000000e+00j, -1.35366814e+00+0.00000000e+00j],\n",
              "        [-4.50755479e+00+0.00000000e+00j, -1.33109863e+00+0.00000000e+00j],\n",
              "        [-4.58167217e+00+0.00000000e+00j, -1.30956554e+00+0.00000000e+00j],\n",
              "        [-4.65484149e+00+0.00000000e+00j, -1.28898052e+00+0.00000000e+00j],\n",
              "        [-4.72713986e+00+0.00000000e+00j, -1.26926645e+00+0.00000000e+00j],\n",
              "        [-4.79863503e+00+0.00000000e+00j, -1.25035556e+00+0.00000000e+00j],\n",
              "        [-4.86938691e+00+0.00000000e+00j, -1.23218798e+00+0.00000000e+00j],\n",
              "        [-4.93944873e+00+0.00000000e+00j, -1.21471045e+00+0.00000000e+00j],\n",
              "        [-5.00886803e+00+0.00000000e+00j, -1.19787544e+00+0.00000000e+00j],\n",
              "        [-5.07768750e+00+0.00000000e+00j, -1.18164026e+00+0.00000000e+00j],\n",
              "        [-5.14594560e+00+0.00000000e+00j, -1.16596647e+00+0.00000000e+00j],\n",
              "        [-5.21367710e+00+0.00000000e+00j, -1.15081926e+00+0.00000000e+00j],\n",
              "        [-5.28091360e+00+0.00000000e+00j, -1.13616704e+00+0.00000000e+00j],\n",
              "        [-5.34768389e+00+0.00000000e+00j, -1.12198105e+00+0.00000000e+00j],\n",
              "        [-5.41401425e+00+0.00000000e+00j, -1.10823498e+00+0.00000000e+00j],\n",
              "        [-5.47992879e+00+0.00000000e+00j, -1.09490474e+00+0.00000000e+00j],\n",
              "        [-5.54544965e+00+0.00000000e+00j, -1.08196817e+00+0.00000000e+00j],\n",
              "        [-5.61059725e+00+0.00000000e+00j, -1.06940487e+00+0.00000000e+00j],\n",
              "        [-5.67539042e+00+0.00000000e+00j, -1.05719599e+00+0.00000000e+00j],\n",
              "        [-5.73984660e+00+0.00000000e+00j, -1.04532410e+00+0.00000000e+00j],\n",
              "        [-5.80398197e+00+0.00000000e+00j, -1.03377303e+00+0.00000000e+00j],\n",
              "        [-5.86781157e+00+0.00000000e+00j, -1.02252772e+00+0.00000000e+00j],\n",
              "        [-5.93134938e+00+0.00000000e+00j, -1.01157420e+00+0.00000000e+00j],\n",
              "        [-5.99460848e+00+0.00000000e+00j, -1.00089939e+00+0.00000000e+00j],\n",
              "        [-6.05760106e+00+0.00000000e+00j, -9.90491111e-01+0.00000000e+00j],\n",
              "        [-6.12033853e+00+0.00000000e+00j, -9.80337928e-01+0.00000000e+00j],\n",
              "        [-6.18283161e+00+0.00000000e+00j, -9.70429146e-01+0.00000000e+00j],\n",
              "        [-6.24509033e+00+0.00000000e+00j, -9.60754718e-01+0.00000000e+00j],\n",
              "        [-6.30712414e+00+0.00000000e+00j, -9.51305201e-01+0.00000000e+00j],\n",
              "        [-6.36894193e+00+0.00000000e+00j, -9.42071708e-01+0.00000000e+00j],\n",
              "        [-6.43055207e+00+0.00000000e+00j, -9.33045862e-01+0.00000000e+00j],\n",
              "        [-6.49196246e+00+0.00000000e+00j, -9.24219762e-01+0.00000000e+00j],\n",
              "        [-6.55318058e+00+0.00000000e+00j, -9.15585940e-01+0.00000000e+00j],\n",
              "        [-6.61421347e+00+0.00000000e+00j, -9.07137338e-01+0.00000000e+00j],\n",
              "        [-6.67506783e+00+0.00000000e+00j, -8.98867270e-01+0.00000000e+00j],\n",
              "        [-6.73574999e+00+0.00000000e+00j, -8.90769403e-01+0.00000000e+00j],\n",
              "        [-6.79626596e+00+0.00000000e+00j, -8.82837728e-01+0.00000000e+00j],\n",
              "        [-6.85662144e+00+0.00000000e+00j, -8.75066539e-01+0.00000000e+00j],\n",
              "        [-6.91682186e+00+0.00000000e+00j, -8.67450416e-01+0.00000000e+00j],\n",
              "        [-6.97687237e+00+0.00000000e+00j, -8.59984199e-01+0.00000000e+00j],\n",
              "        [-7.03677788e+00+0.00000000e+00j, -8.52662980e-01+0.00000000e+00j],\n",
              "        [-7.09654308e+00+0.00000000e+00j, -8.45482080e-01+0.00000000e+00j],\n",
              "        [-7.15617241e+00+0.00000000e+00j, -8.38437038e-01+0.00000000e+00j],\n",
              "        [-7.21567015e+00+0.00000000e+00j, -8.31523598e-01+0.00000000e+00j],\n",
              "        [-7.27504034e+00+0.00000000e+00j, -8.24737694e-01+0.00000000e+00j],\n",
              "        [-7.33428689e+00+0.00000000e+00j, -8.18075444e-01+0.00000000e+00j],\n",
              "        [-7.39341349e+00+0.00000000e+00j, -8.11533131e-01+0.00000000e+00j],\n",
              "        [-7.45242372e+00+0.00000000e+00j, -8.05107201e-01+0.00000000e+00j],\n",
              "        [-7.51132096e+00+0.00000000e+00j, -7.98794251e-01+0.00000000e+00j],\n",
              "        [-7.57010849e+00+0.00000000e+00j, -7.92591019e-01+0.00000000e+00j],\n",
              "        [-7.62878942e+00+0.00000000e+00j, -7.86494379e-01+0.00000000e+00j],\n",
              "        [-7.68736676e+00+0.00000000e+00j, -7.80501333e-01+0.00000000e+00j],\n",
              "        [-7.74584339e+00+0.00000000e+00j, -7.74609000e-01+0.00000000e+00j],\n",
              "        [-7.80422206e+00+0.00000000e+00j, -7.68814618e-01+0.00000000e+00j],\n",
              "        [-7.86250544e+00+0.00000000e+00j, -7.63115529e-01+0.00000000e+00j],\n",
              "        [-7.92069609e+00+0.00000000e+00j, -7.57509180e-01+0.00000000e+00j],\n",
              "        [-7.97879644e+00+0.00000000e+00j, -7.51993116e-01+0.00000000e+00j],\n",
              "        [-8.03680888e+00+0.00000000e+00j, -7.46564972e-01+0.00000000e+00j],\n",
              "        [-8.09473567e+00+0.00000000e+00j, -7.41222474e-01+0.00000000e+00j],\n",
              "        [-8.15257901e+00+0.00000000e+00j, -7.35963428e-01+0.00000000e+00j],\n",
              "        [-8.21034101e+00+0.00000000e+00j, -7.30785724e-01+0.00000000e+00j],\n",
              "        [-8.26802370e+00+0.00000000e+00j, -7.25687325e-01+0.00000000e+00j],\n",
              "        [-8.32562905e+00+0.00000000e+00j, -7.20666266e-01+0.00000000e+00j],\n",
              "        [-8.38315896e+00+0.00000000e+00j, -7.15720652e-01+0.00000000e+00j],\n",
              "        [-8.44061525e+00+0.00000000e+00j, -7.10848655e-01+0.00000000e+00j],\n",
              "        [-8.49799969e+00+0.00000000e+00j, -7.06048508e-01+0.00000000e+00j],\n",
              "        [-8.55531399e+00+0.00000000e+00j, -7.01318503e-01+0.00000000e+00j],\n",
              "        [-8.61255980e+00+0.00000000e+00j, -6.96656992e-01+0.00000000e+00j],\n",
              "        [-8.66973870e+00+0.00000000e+00j, -6.92062380e-01+0.00000000e+00j],\n",
              "        [-8.72685225e+00+0.00000000e+00j, -6.87533125e-01+0.00000000e+00j],\n",
              "        [-8.78390193e+00+0.00000000e+00j, -6.83067735e-01+0.00000000e+00j],\n",
              "        [-8.84088919e+00+0.00000000e+00j, -6.78664766e-01+0.00000000e+00j],\n",
              "        [-8.89781543e+00+0.00000000e+00j, -6.74322821e-01+0.00000000e+00j],\n",
              "        [-8.95468200e+00+0.00000000e+00j, -6.70040544e-01+0.00000000e+00j],\n",
              "        [-9.01149022e+00+0.00000000e+00j, -6.65816625e-01+0.00000000e+00j],\n",
              "        [-9.06824134e+00+0.00000000e+00j, -6.61649792e-01+0.00000000e+00j],\n",
              "        [-9.12493661e+00+0.00000000e+00j, -6.57538814e-01+0.00000000e+00j],\n",
              "        [-9.18157723e+00+0.00000000e+00j, -6.53482496e-01+0.00000000e+00j],\n",
              "        [-9.23816434e+00+0.00000000e+00j, -6.49479678e-01+0.00000000e+00j],\n",
              "        [-9.29469907e+00+0.00000000e+00j, -6.45529237e-01+0.00000000e+00j],\n",
              "        [-9.35118252e+00+0.00000000e+00j, -6.41630081e-01+0.00000000e+00j],\n",
              "        [-9.40761574e+00+0.00000000e+00j, -6.37781151e-01+0.00000000e+00j],\n",
              "        [-9.46399977e+00+0.00000000e+00j, -6.33981419e-01+0.00000000e+00j],\n",
              "        [-9.52033560e+00+0.00000000e+00j, -6.30229884e-01+0.00000000e+00j],\n",
              "        [-9.57662420e+00+0.00000000e+00j, -6.26525577e-01+0.00000000e+00j],\n",
              "        [-9.63286652e+00+0.00000000e+00j, -6.22867554e-01+0.00000000e+00j],\n",
              "        [-9.68906347e+00+0.00000000e+00j, -6.19254897e-01+0.00000000e+00j],\n",
              "        [-9.74521594e+00+0.00000000e+00j, -6.15686716e-01+0.00000000e+00j],\n",
              "        [-9.80132481e+00+0.00000000e+00j, -6.12162143e-01+0.00000000e+00j],\n",
              "        [-9.85739091e+00+0.00000000e+00j, -6.08680335e-01+0.00000000e+00j],\n",
              "        [-9.91341507e+00+0.00000000e+00j, -6.05240471e-01+0.00000000e+00j],\n",
              "        [-9.96939808e+00+0.00000000e+00j, -6.01841751e-01+0.00000000e+00j],\n",
              "        [-1.00253407e+01+0.00000000e+00j, -5.98483400e-01+0.00000000e+00j],\n",
              "        [-1.02487225e+01+0.00000000e+00j, -5.85438821e-01+0.00000000e+00j],\n",
              "        [-1.04715155e+01+0.00000000e+00j, -5.72982965e-01+0.00000000e+00j],\n",
              "        [-1.06937608e+01+0.00000000e+00j, -5.61074827e-01+0.00000000e+00j],\n",
              "        [-1.09154955e+01+0.00000000e+00j, -5.49677290e-01+0.00000000e+00j],\n",
              "        [-1.11367533e+01+0.00000000e+00j, -5.38756657e-01+0.00000000e+00j],\n",
              "        [-1.13575649e+01+0.00000000e+00j, -5.28282255e-01+0.00000000e+00j],\n",
              "        [-1.15779583e+01+0.00000000e+00j, -5.18226087e-01+0.00000000e+00j],\n",
              "        [-1.17979590e+01+0.00000000e+00j, -5.08562542e-01+0.00000000e+00j],\n",
              "        [-1.05008077e+02+0.00000000e+00j, -5.71384620e-02+0.00000000e+00j],\n",
              "        [-1.03264634e+03+0.00000000e+00j, -5.81031449e-03+0.00000000e+00j],\n",
              "        [-1.03085209e+04+0.00000000e+00j, -5.82042763e-04+0.00000000e+00j]]),\n",
              " array([0.00000000e+00, 2.10337174e-01, 4.20674347e-01, 6.31011521e-01,\n",
              "        8.41348695e-01, 1.05168587e+00, 1.26202304e+00, 1.47236022e+00,\n",
              "        1.68269739e+00, 1.89303456e+00, 2.10337174e+00, 2.31370891e+00,\n",
              "        2.36629320e+00, 2.41887750e+00, 2.47146179e+00, 2.52404608e+00,\n",
              "        2.57663038e+00, 2.62921467e+00, 2.68179897e+00, 2.73438326e+00,\n",
              "        2.77553232e+00, 2.81668137e+00, 2.85783043e+00, 2.86811769e+00,\n",
              "        2.87840496e+00, 2.88869222e+00, 2.89897949e+00, 2.91041472e+00,\n",
              "        2.92184996e+00, 2.93328520e+00, 2.94472043e+00, 2.99730473e+00,\n",
              "        3.04988902e+00, 3.10247331e+00, 3.15505761e+00, 3.20764190e+00,\n",
              "        3.26022619e+00, 3.31281049e+00, 3.36539478e+00, 3.41797907e+00,\n",
              "        3.47056337e+00, 3.52314766e+00, 3.57573195e+00, 3.62831625e+00,\n",
              "        3.68090054e+00, 3.73348483e+00, 3.78606913e+00, 3.83865342e+00,\n",
              "        3.89123771e+00, 3.94382201e+00, 3.99640630e+00, 4.04899059e+00,\n",
              "        4.10157489e+00, 4.15415918e+00, 4.20674347e+00, 4.25932777e+00,\n",
              "        4.31191206e+00, 4.36449635e+00, 4.41708065e+00, 4.46966494e+00,\n",
              "        4.52224924e+00, 4.57483353e+00, 4.62741782e+00, 4.68000212e+00,\n",
              "        4.73258641e+00, 4.78517070e+00, 4.83775500e+00, 4.89033929e+00,\n",
              "        4.94292358e+00, 4.99550788e+00, 5.04809217e+00, 5.10067646e+00,\n",
              "        5.15326076e+00, 5.20584505e+00, 5.25842934e+00, 5.31101364e+00,\n",
              "        5.36359793e+00, 5.41618222e+00, 5.46876652e+00, 5.52135081e+00,\n",
              "        5.57393510e+00, 5.62651940e+00, 5.67910369e+00, 5.73168798e+00,\n",
              "        5.78427228e+00, 5.83685657e+00, 5.88944086e+00, 5.94202516e+00,\n",
              "        5.99460945e+00, 6.04719374e+00, 6.09977804e+00, 6.15236233e+00,\n",
              "        6.20494663e+00, 6.25753092e+00, 6.31011521e+00, 6.36269951e+00,\n",
              "        6.41528380e+00, 6.46786809e+00, 6.52045239e+00, 6.57303668e+00,\n",
              "        6.62562097e+00, 6.67820527e+00, 6.73078956e+00, 6.78337385e+00,\n",
              "        6.83595815e+00, 6.88854244e+00, 6.94112673e+00, 6.99371103e+00,\n",
              "        7.04629532e+00, 7.09887961e+00, 7.15146391e+00, 7.20404820e+00,\n",
              "        7.25663249e+00, 7.30921679e+00, 7.36180108e+00, 7.41438537e+00,\n",
              "        7.46696967e+00, 7.51955396e+00, 7.57213825e+00, 7.62472255e+00,\n",
              "        7.67730684e+00, 7.72989113e+00, 7.78247543e+00, 7.83505972e+00,\n",
              "        7.88764401e+00, 7.94022831e+00, 7.99281260e+00, 8.04539690e+00,\n",
              "        8.09798119e+00, 8.15056548e+00, 8.20314978e+00, 8.25573407e+00,\n",
              "        8.30831836e+00, 8.36090266e+00, 8.41348695e+00, 8.46607124e+00,\n",
              "        8.51865554e+00, 8.57123983e+00, 8.62382412e+00, 8.83416130e+00,\n",
              "        9.04449847e+00, 9.25483564e+00, 9.46517282e+00, 9.67550999e+00,\n",
              "        9.88584717e+00, 1.00961843e+01, 1.03065215e+01, 1.03065215e+02,\n",
              "        1.03065215e+03, 1.03065215e+04]))"
            ]
          },
          "metadata": {
            "tags": []
          },
          "execution_count": 19
        },
        {
          "output_type": "display_data",
          "data": {
            "image/png": "[encoded data removed]",
            "text/plain": [
              "<Figure size 432x288 with 1 Axes>"
            ]
          },
          "metadata": {
            "tags": [],
            "needs_background": "light"
          }
        }
      ]
    },
    {
      "cell_type": "markdown",
      "metadata": {
        "id": "PIRv0KpKci7J",
        "colab_type": "text"
      },
      "source": [
        "##### Bode Plot"
      ]
    },
    {
      "cell_type": "code",
      "metadata": {
        "id": "mCWLXddFgEaK",
        "colab_type": "code",
        "colab": {
          "base_uri": "https://localhost:8080/",
          "height": 804
        },
        "outputId": "3fd3bd93-e684-42a0-81fc-9f662abe44fa"
      },
      "source": [
        "# continuous\n",
        "bode_plot(sysc)"
      ],
      "execution_count": null,
      "outputs": [
        {
          "output_type": "execute_result",
          "data": {
            "text/plain": [
              "(array([0.01047657, 0.0120644 , 0.01389352, 0.01600095, 0.01842956,\n",
              "        0.02122907, 0.02445735, 0.02818192, 0.03248188, 0.03745044,\n",
              "        0.04319812, 0.04985714, 0.05758731, 0.0665843 , 0.07709136,\n",
              "        0.08941621, 0.10395577, 0.12123253, 0.14194783, 0.16705752,\n",
              "        0.19786952, 0.23613   , 0.28393701, 0.3428841 , 0.41071269,\n",
              "        0.47322728, 0.49999296, 0.47166065, 0.40858837, 0.34090904,\n",
              "        0.28230547, 0.23482276, 0.19682153, 0.16620847, 0.14125128,\n",
              "        0.12065439, 0.10347113, 0.08900667, 0.07674307, 0.06628663,\n",
              "        0.05733193, 0.04963739, 0.04300861, 0.03728672, 0.03234026,\n",
              "        0.02805929, 0.0243511 , 0.02113695, 0.01834965, 0.01593163]),\n",
              " array([ 1.54984165,  1.54666519,  1.5430057 ,  1.53878895,  1.53392886,\n",
              "         1.52832542,  1.5218621 ,  1.51440261,  1.50578679,  1.49582524,\n",
              "         1.48429225,  1.47091607,  1.45536555,  1.43723096,  1.4159961 ,\n",
              "         1.39099672,  1.36135697,  1.32589039,  1.28294183,  1.23013017,\n",
              "         1.16392388,  1.07894338,  0.96687562,  0.81513766,  0.60689052,\n",
              "         0.32872552, -0.00530722, -0.33829676, -0.61430067, -0.82055122,\n",
              "        -0.97083453, -1.08190711, -1.16620505, -1.23193122, -1.2843944 ,\n",
              "        -1.32708207, -1.3623478 , -1.39182915, -1.41670106, -1.43783161,\n",
              "        -1.45587971, -1.47135775, -1.48467269, -1.4961536 , -1.50607062,\n",
              "        -1.51464824, -1.52207486, -1.52850983, -1.53408878, -1.53892768]),\n",
              " array([ 0.06283185,  0.07234431,  0.0832969 ,  0.09590767,  0.11042765,\n",
              "         0.12714589,  0.14639519,  0.16855875,  0.19407777,  0.22346025,\n",
              "         0.2572911 ,  0.29624379,  0.34109374,  0.39273376,  0.45219184,\n",
              "         0.52065161,  0.59947587,  0.69023376,  0.79473197,  0.91505074,\n",
              "         1.05358521,  1.21309316,  1.39674988,  1.60821139,  1.8516872 ,\n",
              "         2.13202412,  2.45480276,  2.82644861,  3.25435992,  3.74705504,\n",
              "         4.31434193,  4.96751345,  5.71957214,  6.58548904,  7.58250179,\n",
              "         8.73045767, 10.0522088 , 11.57406697, 13.32632746, 15.34387212,\n",
              "        17.66686377, 20.34154567, 23.42116209, 26.96701828, 31.04970078,\n",
              "        35.75048263, 41.16294123, 47.39482115, 54.57017903, 62.83185307]))"
            ]
          },
          "metadata": {
            "tags": []
          },
          "execution_count": 20
        },
        {
          "output_type": "display_data",
          "data": {
            "image/png": "[encoded data removed]",
            "text/plain": [
              "<Figure size 432x288 with 2 Axes>"
            ]
          },
          "metadata": {
            "tags": [],
            "needs_background": "light"
          }
        }
      ]
    },
    {
      "cell_type": "code",
      "metadata": {
        "id": "C16oSJjMgEj7",
        "colab_type": "code",
        "colab": {
          "base_uri": "https://localhost:8080/",
          "height": 613
        },
        "outputId": "fa090f05-b7c2-44cc-a66a-7cddba5d009e"
      },
      "source": [
        "# Discrete\n",
        "bode_plot(sysd)"
      ],
      "execution_count": null,
      "outputs": [
        {
          "output_type": "execute_result",
          "data": {
            "text/plain": [
              "(array([0.11121405, 0.1112476 , 0.11129209, 0.11135109, 0.11142936,\n",
              "        0.1115332 , 0.11167101, 0.11185394, 0.11209689, 0.11241974,\n",
              "        0.11284906, 0.11342056, 0.1141823 , 0.11519931, 0.11656009,\n",
              "        0.11838588, 0.12084409, 0.12416766, 0.12868262, 0.13484475,\n",
              "        0.14327802, 0.15477291, 0.1700827 , 0.18902881, 0.20814197,\n",
              "        0.21876015, 0.21467288, 0.20381338]),\n",
              " array([0.03492304, 0.0402164 , 0.0463144 , 0.05334059, 0.06143809,\n",
              "        0.07077312, 0.08153916, 0.09396224, 0.10830761, 0.12488836,\n",
              "        0.1440768 , 0.16631989, 0.19216061, 0.2222684 , 0.25748341,\n",
              "        0.2988827 , 0.34788165, 0.40639289, 0.47708137, 0.56378043,\n",
              "        0.67217249, 0.81086251, 0.99281194, 1.23601622, 1.55840781,\n",
              "        1.95787912, 2.39304496, 2.82022628]),\n",
              " array([  6.28318531,   7.23443066,   8.32969017,   9.59076694,\n",
              "         11.04276494,  12.71458874,  14.63951898,  16.8558748 ,\n",
              "         19.4077767 ,  22.34602481,  25.72911015,  29.62437906,\n",
              "         34.10937376,  39.27337602,  45.21918446,  52.06516095,\n",
              "         59.94758679,  69.02337563,  79.47319714,  91.50507356,\n",
              "        105.35852071, 121.30931603, 139.67498837, 160.82113901,\n",
              "        185.16871957, 213.20241181, 245.48027609, 282.64486051]))"
            ]
          },
          "metadata": {
            "tags": []
          },
          "execution_count": 21
        },
        {
          "output_type": "display_data",
          "data": {
            "image/png": "[encoded data removed]",
            "text/plain": [
              "<Figure size 432x288 with 2 Axes>"
            ]
          },
          "metadata": {
            "tags": [],
            "needs_background": "light"
          }
        }
      ]
    },
    {
      "cell_type": "markdown",
      "metadata": {
        "id": "-2qf2H_BdGxE",
        "colab_type": "text"
      },
      "source": [
        "##### Nyquist Plot"
      ]
    },
    {
      "cell_type": "code",
      "metadata": {
        "id": "fX3VQh3EgaCR",
        "colab_type": "code",
        "colab": {
          "base_uri": "https://localhost:8080/",
          "height": 904
        },
        "outputId": "d8fc1d7e-74f3-4d54-ac1f-3c22fc1a1910"
      },
      "source": [
        "# Continuous\n",
        "nyquist_plot(sysc)"
      ],
      "execution_count": null,
      "outputs": [
        {
          "output_type": "execute_result",
          "data": {
            "text/plain": [
              "(array([5.56791323e-04, 7.38678875e-04, 9.80214687e-04, 1.30113490e-03,\n",
              "        1.72783848e-03, 2.29573665e-03, 3.05250550e-03, 4.06264314e-03,\n",
              "        5.41394865e-03, 7.22689454e-03, 9.66846249e-03, 1.29730395e-02,\n",
              "        1.74747747e-02, 2.36590021e-02, 3.22460681e-02, 4.43309631e-02,\n",
              "        6.16185101e-02, 8.68133459e-02, 1.24209364e-01, 1.80269994e-01,\n",
              "        2.62636154e-01, 3.71381451e-01, 4.73189543e-01, 4.94267699e-01,\n",
              "        4.14066915e-01, 3.01177834e-01, 2.07843116e-01, 1.42705128e-01,\n",
              "        9.91626129e-02, 6.99862552e-02, 5.01099840e-02, 3.63098526e-02,\n",
              "        2.65608755e-02, 1.95729531e-02, 1.45051522e-02, 1.07958580e-02,\n",
              "        8.06141372e-03, 6.03448823e-03, 4.52567227e-03, 3.39891715e-03,\n",
              "        2.55542116e-03, 1.92280425e-03, 1.44767935e-03, 1.09045932e-03,\n",
              "        8.21669787e-04, 6.19296921e-04, 4.66859658e-04, 3.51996644e-04,\n",
              "        2.65423605e-04, 2.00160056e-04]),\n",
              " array([ 0.0166759 ,  0.019204  ,  0.02211666,  0.02547302,  0.02934167,\n",
              "         0.03380234,  0.03894785,  0.04488671,  0.05174614,  0.05967595,\n",
              "         0.06885312,  0.07948723,  0.09182603,  0.10615909,  0.12281378,\n",
              "         0.14212757,  0.16435454,  0.18939408,  0.21604795,  0.24007858,\n",
              "         0.24968045,  0.21855558,  0.11263404, -0.05322867, -0.18863204,\n",
              "        -0.2447056 , -0.24641996, -0.22580481, -0.19936921, -0.17347925,\n",
              "        -0.15014653, -0.12975562, -0.11213812, -0.09697101, -0.08391768,\n",
              "        -0.07267309, -0.06297397, -0.05459697, -0.0473535 , -0.04108413,\n",
              "        -0.03565362, -0.03094681, -0.02686529, -0.02332468, -0.0202524 ,\n",
              "        -0.01758593, -0.01527128, -0.01326177, -0.011517  , -0.010002  ]),\n",
              " array([  0.1       ,   0.11513954,   0.13257114,   0.1526418 ,\n",
              "          0.17575106,   0.20235896,   0.23299518,   0.26826958,\n",
              "          0.30888436,   0.35564803,   0.40949151,   0.47148664,\n",
              "          0.54286754,   0.62505519,   0.71968567,   0.82864277,\n",
              "          0.95409548,   1.09854114,   1.26485522,   1.45634848,\n",
              "          1.67683294,   1.93069773,   2.22299648,   2.55954792,\n",
              "          2.9470517 ,   3.39322177,   3.90693994,   4.49843267,\n",
              "          5.17947468,   5.96362332,   6.86648845,   7.90604321,\n",
              "          9.10298178,  10.48113134,  12.06792641,  13.89495494,\n",
              "         15.9985872 ,  18.42069969,  21.20950888,  24.42053095,\n",
              "         28.11768698,  32.37457543,  37.2759372 ,  42.9193426 ,\n",
              "         49.41713361,  56.89866029,  65.51285569,  75.43120063,\n",
              "         86.85113738, 100.        ]))"
            ]
          },
          "metadata": {
            "tags": []
          },
          "execution_count": 22
        },
        {
          "output_type": "display_data",
          "data": {
            "image/png": "[encoded data removed]",
            "text/plain": [
              "<Figure size 432x288 with 1 Axes>"
            ]
          },
          "metadata": {
            "tags": [],
            "needs_background": "light"
          }
        }
      ]
    },
    {
      "cell_type": "code",
      "metadata": {
        "id": "Yw1YSmqFgaLh",
        "colab_type": "code",
        "colab": {
          "base_uri": "https://localhost:8080/",
          "height": 907
        },
        "outputId": "5301cd23-c150-4dff-d859-4186025ab26e"
      },
      "source": [
        "# Discrete\n",
        "nyquist_plot(sysd)"
      ],
      "execution_count": null,
      "outputs": [
        {
          "output_type": "stream",
          "text": [
            "/usr/local/lib/python3.6/dist-packages/control/statesp.py:516: UserWarning: freqresp: frequency evaluation above Nyquist frequency\n",
            "  warn(\"freqresp: frequency evaluation above Nyquist frequency\")\n"
          ],
          "name": "stderr"
        },
        {
          "output_type": "execute_result",
          "data": {
            "text/plain": [
              "(array([ 0.11119979,  0.11122847,  0.11126633,  0.11131623,  0.1113819 ,\n",
              "         0.11146807,  0.11158073,  0.11172729,  0.11191656,  0.11215841,\n",
              "         0.11246252,  0.11283528,  0.11327277,  0.11374524,  0.11416334,\n",
              "         0.11430411,  0.11364664,  0.11100412,  0.10371828,  0.08610707,\n",
              "         0.04786603, -0.02103818, -0.10786142, -0.17208453, -0.19763315,\n",
              "        -0.19593194, -0.14317137,  0.0212831 ,  0.11085728,  0.11196967,\n",
              "         0.11351281,  0.0592487 , -0.19306721, -0.06866962,  0.11300093,\n",
              "         0.09917256, -0.19445349,  0.11257701, -0.13990312,  0.11413795,\n",
              "        -0.19848733,  0.1135994 ,  0.11254319,  0.11190423,  0.11427091,\n",
              "         0.11212794, -0.18426181,  0.1111208 ,  0.1105687 ,  0.11320043]),\n",
              " array([ 0.00619153,  0.00713592,  0.008227  ,  0.00948893,  0.01095057,\n",
              "         0.01264678,  0.01462014,  0.01692349,  0.01962355,  0.02280633,\n",
              "         0.02658518,  0.03111307,  0.03660169,  0.04335113,  0.05179628,\n",
              "         0.0625777 ,  0.07664131,  0.09534044,  0.12036751,  0.15279015,\n",
              "         0.18900764,  0.21159912,  0.19061775,  0.12294147,  0.03924202,\n",
              "        -0.05103355, -0.16270927, -0.20242903, -0.09606239, -0.0203429 ,\n",
              "         0.03986021,  0.18086203,  0.06578943, -0.20694952, -0.03314878,\n",
              "         0.13084925, -0.05919597, -0.02797781,  0.16600985, -0.05110007,\n",
              "         0.03150548,  0.07718833, -0.02756726, -0.09047059, -0.06466326,\n",
              "         0.02241681,  0.09588978,  0.00203628, -0.09743353, -0.03566398]),\n",
              " array([   10.        ,    11.51395399,    13.25711366,    15.26417967,\n",
              "           17.57510625,    20.23589648,    23.29951811,    26.82695795,\n",
              "           30.88843596,    35.56480306,    40.94915062,    47.14866363,\n",
              "           54.28675439,    62.50551925,    71.9685673 ,    82.86427729,\n",
              "           95.40954763,   109.8541142 ,   126.48552169,   145.63484775,\n",
              "          167.68329368,   193.06977289,   222.29964825,   255.95479227,\n",
              "          294.70517026,   339.32217719,   390.69399371,   449.8432669 ,\n",
              "          517.94746792,   596.36233166,   686.648845  ,   790.60432109,\n",
              "          910.29817799,  1048.11313415,  1206.79264064,  1389.49549437,\n",
              "         1599.85871961,  1842.06996933,  2120.95088792,  2442.05309455,\n",
              "         2811.76869797,  3237.45754282,  3727.59372031,  4291.93426013,\n",
              "         4941.71336132,  5689.86602902,  6551.2855686 ,  7543.12006335,\n",
              "         8685.11373751, 10000.        ]))"
            ]
          },
          "metadata": {
            "tags": []
          },
          "execution_count": 23
        },
        {
          "output_type": "display_data",
          "data": {
            "image/png": "[encoded data removed]",
            "text/plain": [
              "<Figure size 432x288 with 1 Axes>"
            ]
          },
          "metadata": {
            "tags": [],
            "needs_background": "light"
          }
        }
      ]
    },
    {
      "cell_type": "markdown",
      "metadata": {
        "id": "iPIsRnzoQ6Iq",
        "colab_type": "text"
      },
      "source": [
        "## Test the Systems Response"
      ]
    },
    {
      "cell_type": "markdown",
      "metadata": {
        "id": "rcQiAPVuG7qN",
        "colab_type": "text"
      },
      "source": [
        "Actually, we can analyze the response of systems from two approach, first time domain approach, then frequency domain approach"
      ]
    },
    {
      "cell_type": "markdown",
      "metadata": {
        "id": "NJHhOT1OHx_t",
        "colab_type": "text"
      },
      "source": [
        "#### Time Domain Approach"
      ]
    },
    {
      "cell_type": "markdown",
      "metadata": {
        "id": "VUA3vMOxRCJF",
        "colab_type": "text"
      },
      "source": [
        "##### Step Response"
      ]
    },
    {
      "cell_type": "code",
      "metadata": {
        "id": "6JHoDBv4UGzm",
        "colab_type": "code",
        "colab": {}
      },
      "source": [
        "from control import step_response # Step Response function import"
      ],
      "execution_count": null,
      "outputs": []
    },
    {
      "cell_type": "markdown",
      "metadata": {
        "id": "KiwJSsytSVbM",
        "colab_type": "text"
      },
      "source": [
        "###### Python Control Function"
      ]
    },
    {
      "cell_type": "code",
      "metadata": {
        "id": "ObV7WgSgSZFW",
        "colab_type": "code",
        "colab": {
          "base_uri": "https://localhost:8080/",
          "height": 299
        },
        "outputId": "8391e62c-55ac-4acb-e47b-51b81011b1cd"
      },
      "source": [
        "# Continuous Time Systems\n",
        "tc, yc = step_response(sysc)\n",
        "plt.subplot(2,1,1)\n",
        "plt.plot(tc,yc)\n",
        "plt.title('Continuous Step Response')\n",
        "plt.xlabel('Time (s)')\n",
        "plt.ylabel('Amplitude')\n",
        "# Discrete Time Systems\n",
        "td, yd = step_response(sysd)\n",
        "plt.subplot(2,1,2)\n",
        "plt.plot(td,yd)\n",
        "plt.title('Discrete Step Response')\n",
        "plt.xlabel('Time (s)')\n",
        "plt.ylabel('Amplitude')\n",
        "plt.tight_layout(1)"
      ],
      "execution_count": null,
      "outputs": [
        {
          "output_type": "display_data",
          "data": {
            "image/png": "[encoded data removed]",
            "text/plain": [
              "<Figure size 432x288 with 2 Axes>"
            ]
          },
          "metadata": {
            "tags": [],
            "needs_background": "light"
          }
        }
      ]
    },
    {
      "cell_type": "markdown",
      "metadata": {
        "id": "Hf2KJ0lWSbP-",
        "colab_type": "text"
      },
      "source": [
        "###### MATLAB like function"
      ]
    },
    {
      "cell_type": "code",
      "metadata": {
        "id": "4qqfoJz9Sdg2",
        "colab_type": "code",
        "colab": {
          "base_uri": "https://localhost:8080/",
          "height": 299
        },
        "outputId": "b60542f6-fde2-4c8d-a642-759313dd22ac"
      },
      "source": [
        "# Continuous Time Systems\n",
        "yc, tc = step(sysc)\n",
        "plt.subplot(2,1,1)\n",
        "plt.plot(tc,yc)\n",
        "plt.title('Continuous Step Response')\n",
        "plt.xlabel('Time (s)')\n",
        "plt.ylabel('Amplitude')\n",
        "# Discrete Time Systems\n",
        "yd, td = step(sysd)\n",
        "plt.subplot(2,1,2)\n",
        "plt.plot(td,yd)\n",
        "plt.title('Discrete Step Response')\n",
        "plt.xlabel('Time (s)')\n",
        "plt.ylabel('Amplitude')\n",
        "plt.tight_layout(1)"
      ],
      "execution_count": null,
      "outputs": [
        {
          "output_type": "display_data",
          "data": {
            "image/png": "[encoded data removed]",
            "text/plain": [
              "<Figure size 432x288 with 2 Axes>"
            ]
          },
          "metadata": {
            "tags": [],
            "needs_background": "light"
          }
        }
      ]
    },
    {
      "cell_type": "markdown",
      "metadata": {
        "id": "jxTZOdoRREZl",
        "colab_type": "text"
      },
      "source": [
        "##### Impulse Response"
      ]
    },
    {
      "cell_type": "code",
      "metadata": {
        "id": "fJDcBsI5UAhs",
        "colab_type": "code",
        "colab": {}
      },
      "source": [
        "from control import impulse_response # Impulse Response function import"
      ],
      "execution_count": null,
      "outputs": []
    },
    {
      "cell_type": "markdown",
      "metadata": {
        "id": "ADvnprrlTy9f",
        "colab_type": "text"
      },
      "source": [
        "###### Python Control Function"
      ]
    },
    {
      "cell_type": "code",
      "metadata": {
        "id": "xws83-UyT7Vh",
        "colab_type": "code",
        "colab": {
          "base_uri": "https://localhost:8080/",
          "height": 299
        },
        "outputId": "4e7dcc1d-a407-419e-da72-194d5be02c8c"
      },
      "source": [
        "# Continuous Time Systems\n",
        "tc, yc = impulse_response(sysc)\n",
        "plt.subplot(2,1,1)\n",
        "plt.plot(tc,yc)\n",
        "plt.title('Continuous Step Response')\n",
        "plt.xlabel('Time (s)')\n",
        "plt.ylabel('Amplitude')\n",
        "# Discrete Time Systems\n",
        "td, yd = impulse_response(sysd)\n",
        "plt.subplot(2,1,2)\n",
        "plt.plot(td,yd)\n",
        "plt.title('Discrete Step Response')\n",
        "plt.xlabel('Time (s)')\n",
        "plt.ylabel('Amplitude')\n",
        "plt.tight_layout(1)"
      ],
      "execution_count": null,
      "outputs": [
        {
          "output_type": "display_data",
          "data": {
            "image/png": "[encoded data removed]",
            "text/plain": [
              "<Figure size 432x288 with 2 Axes>"
            ]
          },
          "metadata": {
            "tags": [],
            "needs_background": "light"
          }
        }
      ]
    },
    {
      "cell_type": "markdown",
      "metadata": {
        "id": "nN5NbWmkTzJS",
        "colab_type": "text"
      },
      "source": [
        "###### MATLAB like Function"
      ]
    },
    {
      "cell_type": "code",
      "metadata": {
        "id": "Jp3dJAkYSQcu",
        "colab_type": "code",
        "colab": {
          "base_uri": "https://localhost:8080/",
          "height": 299
        },
        "outputId": "525ebba4-fb60-4f46-e8ce-43e62ea8b60e"
      },
      "source": [
        "# Continuous Time Systems\n",
        "yc, tc = impulse(sysc)\n",
        "plt.subplot(2,1,1)\n",
        "plt.plot(tc,yc)\n",
        "plt.title('Continuous Step Response')\n",
        "plt.xlabel('Time (s)')\n",
        "plt.ylabel('Amplitude')\n",
        "# Discrete Time Systems\n",
        "yd, td = impulse(sysd)\n",
        "plt.subplot(2,1,2)\n",
        "plt.plot(td,yd)\n",
        "plt.title('Discrete Step Response')\n",
        "plt.xlabel('Time (s)')\n",
        "plt.ylabel('Amplitude')\n",
        "plt.tight_layout(1)"
      ],
      "execution_count": null,
      "outputs": [
        {
          "output_type": "display_data",
          "data": {
            "image/png": "[encoded data removed]",
            "text/plain": [
              "<Figure size 432x288 with 2 Axes>"
            ]
          },
          "metadata": {
            "tags": [],
            "needs_background": "light"
          }
        }
      ]
    },
    {
      "cell_type": "markdown",
      "metadata": {
        "id": "m91e1GeDH25m",
        "colab_type": "text"
      },
      "source": [
        "#### Frequency Domain Approach"
      ]
    },
    {
      "cell_type": "markdown",
      "metadata": {
        "id": "sOPkQk8mh6NC",
        "colab_type": "text"
      },
      "source": [
        "##### Frequency Response"
      ]
    },
    {
      "cell_type": "code",
      "metadata": {
        "id": "F5CygABfgp5p",
        "colab_type": "code",
        "colab": {}
      },
      "source": [
        "from control import freqresp"
      ],
      "execution_count": null,
      "outputs": []
    },
    {
      "cell_type": "code",
      "metadata": {
        "id": "_zcAD5cVh0Tf",
        "colab_type": "code",
        "colab": {
          "base_uri": "https://localhost:8080/",
          "height": 34
        },
        "outputId": "950a3dfa-7e61-401a-8581-7fbdb99eb4e3"
      },
      "source": [
        "# Continuous\n",
        "freqresp(sysc, [10])"
      ],
      "execution_count": null,
      "outputs": [
        {
          "output_type": "execute_result",
          "data": {
            "text/plain": [
              "(array([[[0.10405382]]]), array([[[-1.36115648]]]), array([10]))"
            ]
          },
          "metadata": {
            "tags": []
          },
          "execution_count": 31
        }
      ]
    },
    {
      "cell_type": "code",
      "metadata": {
        "id": "yvxI86dkh4Tu",
        "colab_type": "code",
        "colab": {
          "base_uri": "https://localhost:8080/",
          "height": 187
        },
        "outputId": "710adfa0-00d4-47e3-b760-4afb29fcf7ca"
      },
      "source": [
        "# Discrete\n",
        "freqresp(sysd)"
      ],
      "execution_count": null,
      "outputs": [
        {
          "output_type": "error",
          "ename": "TypeError",
          "evalue": "ignored",
          "traceback": [
            "\u001b[0;31m---------------------------------------------------------------------------\u001b[0m",
            "\u001b[0;31mTypeError\u001b[0m                                 Traceback (most recent call last)",
            "\u001b[0;32m<ipython-input-32-1a843c39322c>\u001b[0m in \u001b[0;36m<module>\u001b[0;34m()\u001b[0m\n\u001b[1;32m      1\u001b[0m \u001b[0;31m# Discrete\u001b[0m\u001b[0;34m\u001b[0m\u001b[0;34m\u001b[0m\u001b[0;34m\u001b[0m\u001b[0m\n\u001b[0;32m----> 2\u001b[0;31m \u001b[0mfreqresp\u001b[0m\u001b[0;34m(\u001b[0m\u001b[0msysd\u001b[0m\u001b[0;34m)\u001b[0m\u001b[0;34m\u001b[0m\u001b[0;34m\u001b[0m\u001b[0m\n\u001b[0m",
            "\u001b[0;31mTypeError\u001b[0m: freqresp() missing 1 required positional argument: 'omega'"
          ]
        }
      ]
    },
    {
      "cell_type": "markdown",
      "metadata": {
        "id": "Wpc_8j6HbxDN",
        "colab_type": "text"
      },
      "source": [
        "## Okay Then, Let's Simulate The Real World Systems!"
      ]
    },
    {
      "cell_type": "markdown",
      "metadata": {
        "id": "dimEY94tkTdI",
        "colab_type": "text"
      },
      "source": [
        "In this ocassion, the design of the control algorithm were using MATLAB like function, so the code also compatible with MATLAB. In the case you want to try the simulation it will be 100% worked both on Python and MATLAB."
      ]
    },
    {
      "cell_type": "markdown",
      "metadata": {
        "id": "zV8xSTmRRHj7",
        "colab_type": "text"
      },
      "source": [
        "### Inverted Pendulum System"
      ]
    },
    {
      "cell_type": "markdown",
      "metadata": {
        "id": "RELjwQl8BJE0",
        "colab_type": "text"
      },
      "source": [
        "\n",
        "![alt text](http://ctms.engin.umich.edu/CTMS/Content/InvertedPendulum/Simulink/Modeling/figures/pendulum.png)\n",
        "\n",
        "Source : http://ctms.engin.umich.edu/CTMS/index.php?example=InvertedPendulum&section=SimulinkModeling (CTMS, University of Michigan)\n",
        "\n",
        "**The controlling aim for this system is to drive the pendulum into balance condition by applying a force to the cart.**\n",
        "\n",
        "The system characteristics are continuous and non-linear in nature. So because in this tutorial I only limit the system to Linear System so we ought to linearize the system first.\n",
        "\n",
        "As well, in this case the name of for the controlling goal is regulator. Since, the goal of our control is to drive the pendulum angle to zero."
      ]
    },
    {
      "cell_type": "code",
      "metadata": {
        "id": "_0Wovec7Cvsy",
        "colab_type": "code",
        "colab": {}
      },
      "source": [
        "M = 0.5; # The Mass of Cart (Kg)\n",
        "m = 0.2; # The mass of Pendulum (Kg)\n",
        "b = 0.1;\n",
        "I = 0.006; # Inertia of\n",
        "g = 9.8; # Gravitational Acceleration (m/s^2)\n",
        "l = 0.3; # Pendulum length (m)\n",
        "q = (M+m)*(I+m*l**2)-(m*l)**2;\n",
        "s = tf('s');\n",
        "sys_tf = (m*l*s/q)/(s**3 + (b*(I + m*l**2))*s*2/q - ((M + m)*m*g*l)*s/q - b*m*g*l/q);\n",
        "# Also change the form of transfer function into state space model for controlling through the modern control algorithm\n",
        "sys_ss = tf2ss(sys_tf)"
      ],
      "execution_count": null,
      "outputs": []
    },
    {
      "cell_type": "code",
      "metadata": {
        "id": "jkVRidZWeAuO",
        "colab_type": "code",
        "colab": {
          "base_uri": "https://localhost:8080/",
          "height": 312
        },
        "outputId": "2bda7d69-e4c7-49fd-e149-2316886f91e1"
      },
      "source": [
        "## stability Checking\n",
        "pzmap(P_pend)"
      ],
      "execution_count": null,
      "outputs": [
        {
          "output_type": "execute_result",
          "data": {
            "text/plain": [
              "(array([ 5.62231968, -5.47767871, -0.14464096]), array([0.]))"
            ]
          },
          "metadata": {
            "tags": []
          },
          "execution_count": 56
        },
        {
          "output_type": "display_data",
          "data": {
            "image/png": "[encoded data removed]",
            "text/plain": [
              "<Figure size 432x288 with 1 Axes>"
            ]
          },
          "metadata": {
            "tags": [],
            "needs_background": "light"
          }
        }
      ]
    },
    {
      "cell_type": "code",
      "metadata": {
        "id": "zivP-m5rf2cf",
        "colab_type": "code",
        "colab": {
          "base_uri": "https://localhost:8080/",
          "height": 156
        },
        "outputId": "8f226ae7-3c2c-44e3-fd24-50dc2c498447"
      },
      "source": [
        "# Stability Checking\n",
        "eig = np.linalg.eig(sys_ss.A)\n",
        "print('System Eigenvalue'),\n",
        "print(eig[0], \"\\n\"),\n",
        "\n",
        "# Controllability Check\n",
        "ctrM = ctrb(sys_ss.A, sys_ss.B)\n",
        "rankCtr = np.linalg.matrix_rank(ctrM)\n",
        "print('Controllability Rank'),\n",
        "print(rankCtr, \"\\n\"),\n",
        "\n",
        "# Observabiity Check\n",
        "obsM = obsv(sys_ss.A, sys_ss.C)\n",
        "rankObs = np.linalg.matrix_rank(obsM)\n",
        "print('Observability Rank'),\n",
        "print(rankObs)"
      ],
      "execution_count": null,
      "outputs": [
        {
          "output_type": "stream",
          "text": [
            "System Eigenvalue\n",
            "[ 5.62231968 -5.47767871 -0.14464096] \n",
            "\n",
            "Controllability Rank\n",
            "3 \n",
            "\n",
            "Observability Rank\n",
            "3\n"
          ],
          "name": "stdout"
        }
      ]
    },
    {
      "cell_type": "markdown",
      "metadata": {
        "id": "IiNE4ESJeHqD",
        "colab_type": "text"
      },
      "source": [
        "It's not stable due to pole or the eigenvalue located in right half plane (5.622). The system were controllable and observable because both of controllability and observability matrix have a full rank."
      ]
    },
    {
      "cell_type": "markdown",
      "metadata": {
        "id": "4ZB4vAwQPumj",
        "colab_type": "text"
      },
      "source": [
        "#### PID Controller"
      ]
    },
    {
      "cell_type": "code",
      "metadata": {
        "id": "xYTWmOmdPwE_",
        "colab_type": "code",
        "colab": {
          "base_uri": "https://localhost:8080/",
          "height": 312
        },
        "outputId": "55511c73-81b8-4dea-b77d-be9e1a811a28"
      },
      "source": [
        "Kp = 100;\n",
        "Ki = 1;\n",
        "Kd = 20;\n",
        "Ti = Kp / Ki\n",
        "Td = Kd / Kp\n",
        "pid = Kp * (1 + 1 / (Ti * s) + Td * s)\n",
        "isys = feedback(P_pend, pid)\n",
        "t = np.linspace(0, 10)\n",
        "t, y = impulse(isys, t)\n",
        "plt.plot(y,t)\n",
        "plt.title('PID Controller Response')\n",
        "plt.xlabel('Time (s)')\n",
        "plt.ylabel('Pendulum Axis')"
      ],
      "execution_count": null,
      "outputs": [
        {
          "output_type": "execute_result",
          "data": {
            "text/plain": [
              "Text(0, 0.5, 'Pendulum Axis')"
            ]
          },
          "metadata": {
            "tags": []
          },
          "execution_count": 58
        },
        {
          "output_type": "display_data",
          "data": {
            "image/png": "[encoded data removed]",
            "text/plain": [
              "<Figure size 432x288 with 1 Axes>"
            ]
          },
          "metadata": {
            "tags": [],
            "needs_background": "light"
          }
        }
      ]
    },
    {
      "cell_type": "markdown",
      "metadata": {
        "id": "oqkquDeZTv0o",
        "colab_type": "text"
      },
      "source": [
        "#### State Feedback Controller (Pole Placement Method)"
      ]
    },
    {
      "cell_type": "markdown",
      "metadata": {
        "id": "iUVpVcJchuTV",
        "colab_type": "text"
      },
      "source": [
        "In this design, I would like to place all of the three pole to the left half plane coordinate and place it to specific pole location as this (-1, -2, -3)"
      ]
    },
    {
      "cell_type": "code",
      "metadata": {
        "id": "ym7dJUH7Tx53",
        "colab_type": "code",
        "colab": {
          "base_uri": "https://localhost:8080/",
          "height": 312
        },
        "outputId": "bc680752-ac8b-4d5a-cd37-15d5bb0a8a3d"
      },
      "source": [
        "desiredPole = np.array([-1,-2,-3])\n",
        "ppGain = place(sys_ss.A, sys_ss.B, desiredPole)\n",
        "feedbackMech = sys_ss.A - sys_ss.B * ppGain\n",
        "newSys = ss(feedbackMech, sys_ss.B, sys_ss.C, 0)\n",
        "t = np.linspace(0,10)\n",
        "t,y = impulse(newSys, t)\n",
        "plt.plot(y,t)\n",
        "plt.title('State-Feedback Controller Response')\n",
        "plt.xlabel('Time (s)')\n",
        "plt.ylabel('Pendulum Axis')"
      ],
      "execution_count": null,
      "outputs": [
        {
          "output_type": "execute_result",
          "data": {
            "text/plain": [
              "Text(0, 0.5, 'Pendulum Axis')"
            ]
          },
          "metadata": {
            "tags": []
          },
          "execution_count": 84
        },
        {
          "output_type": "display_data",
          "data": {
            "image/png": "[encoded data removed]",
            "text/plain": [
              "<Figure size 432x288 with 1 Axes>"
            ]
          },
          "metadata": {
            "tags": [],
            "needs_background": "light"
          }
        }
      ]
    },
    {
      "cell_type": "markdown",
      "metadata": {
        "id": "OZzWe_8ITyPs",
        "colab_type": "text"
      },
      "source": [
        "#### LQR Controller"
      ]
    },
    {
      "cell_type": "markdown",
      "metadata": {
        "id": "15HtZyUYldhk",
        "colab_type": "text"
      },
      "source": [
        "LQR (Linear Quadratic Regulator) is the one of Optimal Control Algorithm variant, it uses calculus variation such as Algebraic Riccati Equation (ARE) to determine the optimal gain for the controller. "
      ]
    },
    {
      "cell_type": "code",
      "metadata": {
        "id": "W0bZkFm6T1wc",
        "colab_type": "code",
        "colab": {
          "base_uri": "https://localhost:8080/",
          "height": 312
        },
        "outputId": "df005436-58ba-49da-d4c1-4df1e3472928"
      },
      "source": [
        "# Defining the LQR Parameter\n",
        "Q = np.array([[10,0,0],\n",
        "              [0,1,0],\n",
        "              [0,0,10]])\n",
        "R = 0.1\n",
        "gainLQR, X, E =  lqr(sys_ss.A, sys_ss.B, Q, R)\n",
        "feedbackMech = sys_ss.A - sys_ss.B * gainLQR\n",
        "newSys = ss(feedbackMech, sys_ss.B, sys_ss.C, 0)\n",
        "t = np.linspace(0,10)\n",
        "t,y = impulse(newSys, t)\n",
        "plt.plot(y,t)\n",
        "plt.title('LQR Controller Response')\n",
        "plt.xlabel('Time (s)')\n",
        "plt.ylabel('Pendulum Axis')"
      ],
      "execution_count": null,
      "outputs": [
        {
          "output_type": "execute_result",
          "data": {
            "text/plain": [
              "Text(0, 0.5, 'Pendulum Axis')"
            ]
          },
          "metadata": {
            "tags": []
          },
          "execution_count": 95
        },
        {
          "output_type": "display_data",
          "data": {
            "image/png": "[encoded data removed]",
            "text/plain": [
              "<Figure size 432x288 with 1 Axes>"
            ]
          },
          "metadata": {
            "tags": [],
            "needs_background": "light"
          }
        }
      ]
    },
    {
      "cell_type": "markdown",
      "metadata": {
        "id": "RIldHSb3RSnV",
        "colab_type": "text"
      },
      "source": [
        "# More Advanced Control Systems Design (Optional)"
      ]
    },
    {
      "cell_type": "markdown",
      "metadata": {
        "id": "CZkUIoDHBx9z",
        "colab_type": "text"
      },
      "source": [
        ""
      ]
    },
    {
      "cell_type": "code",
      "metadata": {
        "id": "nvNGnfcVOMKV",
        "colab_type": "code",
        "colab": {}
      },
      "source": [
        ""
      ],
      "execution_count": null,
      "outputs": []
    }
  ]
}